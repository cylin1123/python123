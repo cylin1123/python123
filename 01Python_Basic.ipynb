{
 "cells": [
  {
   "cell_type": "markdown",
   "metadata": {},
   "source": [
    "## Python3 基礎語法"
   ]
  },
  {
   "cell_type": "markdown",
   "metadata": {},
   "source": [
    "### 1.基本概念"
   ]
  },
  {
   "cell_type": "markdown",
   "metadata": {},
   "source": [
    "#### 1.1 編碼\n",
    "<B>說明</B> : \n",
    "* python 原始碼文件預設編碼 : UTF-8 \n",
    "* 字符串皆為 unicode 字符串\n"
   ]
  },
  {
   "cell_type": "code",
   "execution_count": 1,
   "metadata": {},
   "outputs": [],
   "source": [
    "#指定不同編碼\n",
    "# -*- coding: cp-1252 -*-\n",
    "# -*- coding: UTF-8 -*-\n",
    "#coding=utf-8 "
   ]
  },
  {
   "cell_type": "markdown",
   "metadata": {},
   "source": [
    "#### 1.2 註解\n",
    "<B>說明</B> :  \n",
    "* 單行註解以 # 開頭\n",
    "* 多行註解以''' 或 \"\"\" 開頭及結尾"
   ]
  },
  {
   "cell_type": "code",
   "execution_count": 5,
   "metadata": {},
   "outputs": [
    {
     "name": "stdout",
     "output_type": "stream",
     "text": [
      "Hello world\n"
     ]
    },
    {
     "data": {
      "text/plain": [
       "'\\na=a+b\\n我是註解 1\\n我是註解 2\\n#print(\"Hello Nick\")\\n'"
      ]
     },
     "execution_count": 5,
     "metadata": {},
     "output_type": "execute_result"
    }
   ],
   "source": [
    "#我是註解 \n",
    "print(\"Hello world\")\n",
    "\n",
    "a = 1\n",
    "b = 2\n",
    "\n",
    "'''\n",
    "print(a+b)\n",
    "'''\n",
    "\"\"\"\n",
    "a=a+b\n",
    "我是註解 1\n",
    "我是註解 2\n",
    "#print(\"Hello Nick\")\n",
    "\"\"\"\n"
   ]
  },
  {
   "cell_type": "markdown",
   "metadata": {},
   "source": [
    "#### 1.3. 行與縮排\n",
    "<B>說明</B> :  \n",
    "* 以\"縮排\" 取代 \"{ }\", 作為程式碼區域\n",
    "* 區域內縮排不一致,將導致運行錯誤"
   ]
  },
  {
   "cell_type": "code",
   "execution_count": 10,
   "metadata": {},
   "outputs": [
    {
     "name": "stdout",
     "output_type": "stream",
     "text": [
      "True\n",
      "Apple\n"
     ]
    }
   ],
   "source": [
    "if True:\n",
    "    print (\"True\")\n",
    "    print (\"Apple\")\n",
    "else:\n",
    "    print (\"False\")\n",
    "    print (\"Cat\")"
   ]
  },
  {
   "cell_type": "markdown",
   "metadata": {},
   "source": [
    "#### 1.4. 變數命名規則\n",
    "<B>說明</B> :\n",
    "* 保留字不得做為變數名稱\n",
    "* 變數起始字母需為\"英文字母\" 或 \"_\"\n",
    "* 變數大小寫視為不同變數"
   ]
  },
  {
   "cell_type": "code",
   "execution_count": 11,
   "metadata": {},
   "outputs": [
    {
     "name": "stdout",
     "output_type": "stream",
     "text": [
      "['False', 'None', 'True', 'and', 'as', 'assert', 'break', 'class', 'continue', 'def', 'del', 'elif', 'else', 'except', 'finally', 'for', 'from', 'global', 'if', 'import', 'in', 'is', 'lambda', 'nonlocal', 'not', 'or', 'pass', 'raise', 'return', 'try', 'while', 'with', 'yield']\n"
     ]
    }
   ],
   "source": [
    "# 保留字\n",
    "import keyword\n",
    "print(keyword.kwlist)"
   ]
  },
  {
   "cell_type": "code",
   "execution_count": 19,
   "metadata": {},
   "outputs": [
    {
     "name": "stdout",
     "output_type": "stream",
     "text": [
      "1\n",
      "2\n"
     ]
    }
   ],
   "source": [
    "a=1\n",
    "A=2\n",
    "\n",
    "print(a)\n",
    "print(A)"
   ]
  },
  {
   "cell_type": "markdown",
   "metadata": {},
   "source": [
    "#### 1.5.  比較運算符號"
   ]
  },
  {
   "cell_type": "markdown",
   "metadata": {},
   "source": [
    "運算符號 | 說明 \n",
    "------|------ \n",
    "== | 等於 \n",
    "!= | 不等於 \n",
    "> | 大於\n",
    "< | 小於\n",
    ">= | 大於等於\n",
    "<= | 小於等於\n",
    "\n"
   ]
  },
  {
   "cell_type": "markdown",
   "metadata": {},
   "source": [
    "#### 1.6.  賦值運算符號"
   ]
  },
  {
   "cell_type": "markdown",
   "metadata": {},
   "source": [
    "運算符號 | 說明 \n",
    "------|------ \n",
    "= | a = b + c\n",
    "+= | a = a + b\n",
    "-= | a = a - b\n",
    "*= | a = a * b\n",
    "/= | a = a / b\n",
    "%= | a = a % b\n",
    "**= | a = a ** b\n",
    "//= | a = a // b\n"
   ]
  },
  {
   "cell_type": "markdown",
   "metadata": {},
   "source": [
    "#### 1.7.  身分運算符號"
   ]
  },
  {
   "cell_type": "code",
   "execution_count": 20,
   "metadata": {},
   "outputs": [
    {
     "name": "stdout",
     "output_type": "stream",
     "text": [
      "True\n",
      "False\n"
     ]
    }
   ],
   "source": [
    "a = 20\n",
    "b = 20\n",
    "\n",
    "print(a is b)\n",
    "print(a is not b)"
   ]
  },
  {
   "cell_type": "code",
   "execution_count": 22,
   "metadata": {},
   "outputs": [
    {
     "name": "stdout",
     "output_type": "stream",
     "text": [
      "[1, 2, 3]\n",
      "True\n",
      "True\n"
     ]
    }
   ],
   "source": [
    "a = [1,2,3]\n",
    "b = a\n",
    "print(b)\n",
    "print(b is a)\n",
    "print(b == a)"
   ]
  },
  {
   "cell_type": "code",
   "execution_count": 23,
   "metadata": {},
   "outputs": [
    {
     "name": "stdout",
     "output_type": "stream",
     "text": [
      "[1, 2, 3]\n",
      "False\n",
      "True\n"
     ]
    }
   ],
   "source": [
    "b = a[:]\n",
    "print(b)\n",
    "print(b is a)\n",
    "print(b == a)"
   ]
  },
  {
   "cell_type": "markdown",
   "metadata": {},
   "source": [
    "### 2. 變數類型\n",
    "<B>說明</B> :\n",
    "* 數字 (Number)  :  int、float、bool、complex(複數)\n",
    "* 字串 (String)\n",
    "* 列表 (List)\n",
    "* 元組 (Tuple)\n",
    "* 字典 (Dictionary)\n",
    "* 集合 (Set) "
   ]
  },
  {
   "cell_type": "code",
   "execution_count": 25,
   "metadata": {},
   "outputs": [
    {
     "name": "stdout",
     "output_type": "stream",
     "text": [
      "10\n"
     ]
    }
   ],
   "source": [
    "a = 10\n",
    "print(a)\n"
   ]
  },
  {
   "cell_type": "code",
   "execution_count": 26,
   "metadata": {},
   "outputs": [
    {
     "ename": "NameError",
     "evalue": "name 'a' is not defined",
     "output_type": "error",
     "traceback": [
      "\u001b[1;31m---------------------------------------------------------------------------\u001b[0m",
      "\u001b[1;31mNameError\u001b[0m                                 Traceback (most recent call last)",
      "\u001b[1;32m<ipython-input-26-c4e3a82558cb>\u001b[0m in \u001b[0;36m<module>\u001b[1;34m()\u001b[0m\n\u001b[0;32m      1\u001b[0m \u001b[1;31m# 刪除變數\u001b[0m\u001b[1;33m\u001b[0m\u001b[1;33m\u001b[0m\u001b[0m\n\u001b[0;32m      2\u001b[0m \u001b[1;32mdel\u001b[0m \u001b[0ma\u001b[0m\u001b[1;33m\u001b[0m\u001b[0m\n\u001b[1;32m----> 3\u001b[1;33m \u001b[0mprint\u001b[0m\u001b[1;33m(\u001b[0m\u001b[0ma\u001b[0m\u001b[1;33m)\u001b[0m\u001b[1;33m\u001b[0m\u001b[0m\n\u001b[0m",
      "\u001b[1;31mNameError\u001b[0m: name 'a' is not defined"
     ]
    }
   ],
   "source": [
    "# 刪除變數\n",
    "del a\n",
    "print(a)"
   ]
  },
  {
   "cell_type": "markdown",
   "metadata": {},
   "source": [
    "#### 2.1 數字 (Number)"
   ]
  },
  {
   "cell_type": "code",
   "execution_count": 28,
   "metadata": {},
   "outputs": [
    {
     "name": "stdout",
     "output_type": "stream",
     "text": [
      "10\n",
      "2.5\n",
      "(1.5+0.5j)\n",
      "1.5 0.5\n",
      "<class 'int'> <class 'float'> <class 'complex'>\n"
     ]
    }
   ],
   "source": [
    "a = 10\n",
    "b = 2.5\n",
    "c = 1.5+0.5j\n",
    "print(a)\n",
    "print(b)\n",
    "print(c)\n",
    "print(c.real,c.imag) # var.real 複數中的實數, var.imag 複數中的虛數 \n",
    "print(type(a),type(b),type(c))"
   ]
  },
  {
   "cell_type": "code",
   "execution_count": 33,
   "metadata": {},
   "outputs": [
    {
     "name": "stdout",
     "output_type": "stream",
     "text": [
      "30\n",
      "10\n",
      "200\n",
      "2.0 <class 'float'>\n",
      "2 <class 'int'>\n",
      "0 <class 'int'>\n",
      "10240000000000 <class 'int'>\n"
     ]
    }
   ],
   "source": [
    "a = 20\n",
    "b = 10\n",
    "print (a+b)  # 加法\n",
    "print (a-b)  # 減法\n",
    "print (a*b)  # 乘法\n",
    "print (a/b , type(a/b))  # 除法\n",
    "print (a//b , type(a//b)) # 取整數\n",
    "print (a%b , type(a%b)) # 取餘數\n",
    "print (a**b, type(a**b)) # 乘方"
   ]
  },
  {
   "cell_type": "markdown",
   "metadata": {},
   "source": [
    "#### 2.2 字串 (String)\n",
    "\n",
    "* 單引號（'）或雙引號（\"）包起來的資料都是字串"
   ]
  },
  {
   "cell_type": "code",
   "execution_count": 53,
   "metadata": {},
   "outputs": [
    {
     "name": "stdout",
     "output_type": "stream",
     "text": [
      "I'm Nick\n",
      "I'm Nick\n"
     ]
    }
   ],
   "source": [
    "strA ='I\\'m Nick'\n",
    "strB = \"I\\'m Nick\"\n",
    "print(strA)\n",
    "print(strB)"
   ]
  },
  {
   "cell_type": "markdown",
   "metadata": {},
   "source": [
    "##### 2.2.1 常用操作 \n",
    "<B>說明</B> :\n",
    "1. 字串連接 (+)  : Example -- strA + strB\n",
    "2. 重覆字串 (*)  : Example -- strA *2\n",
    "3. 取得字串中第i個字符 ( [i] ) : Example -- strA[2]\n",
    "4. 取得字串中某一段字符 ( [:] ) : Example -- strA[0:5] \n",
    "5. 判斷某字符或字串是否在字串中 (in) \n",
    "6. 判斷某字符或字串是否不在字串中 (not in) "
   ]
  },
  {
   "cell_type": "code",
   "execution_count": 54,
   "metadata": {},
   "outputs": [
    {
     "name": "stdout",
     "output_type": "stream",
     "text": [
      "Hello World!I'm Ncik\n",
      "Hello World!Hello World!\n",
      "Hello\n",
      "Hello,I'm Ncik\n",
      "True\n",
      "False\n",
      "我的名字是Nick , 身高 170 cm.\n"
     ]
    }
   ],
   "source": [
    "strA = 'Hello World!'\n",
    "strB = 'I\\'m Ncik' # I'm Nick\n",
    "print(strA + strB)\n",
    "print(strA * 2)\n",
    "print(strA[0:5])\n",
    "print(strA[0:5] + \",\" + strB)\n",
    "\n",
    "print (\"Hello\" in strA)\n",
    "print (\"W\" not in strA)\n",
    "\n",
    "print (\"我的名字是%s , 身高 %d cm.\" % ('Nick', 170))"
   ]
  },
  {
   "cell_type": "markdown",
   "metadata": {},
   "source": [
    "##### 2.2.2 常用內建函數 \n",
    "<B>說明</B> :\n",
    "1. capitalize() : 將字串中第一個字母轉為大寫\n",
    "2. count()  : 回傳某字元或字串在原字串中的次數\n",
    "3. len() : 回傳字串長度\n",
    "4. max() : 回傳字串中最大的字元\n",
    "5. min() : 回傳字串中最小的字元\n",
    "6. replace() : 字串取代\n",
    "7. center() : 回傳一個以原字串置中的字串\n",
    "8. isalnum() : 判斷字串是否以英文字母或數字組成 , 回傳Ture / False\n",
    "9. isdigit() : 判斷字串組成是否為數字"
   ]
  },
  {
   "cell_type": "code",
   "execution_count": 57,
   "metadata": {},
   "outputs": [
    {
     "name": "stdout",
     "output_type": "stream",
     "text": [
      "Hello\n",
      "1\n",
      "1\n",
      "5\n",
      "o\n",
      "e\n",
      "heaao\n",
      "healo\n",
      "--hello---\n",
      "False\n",
      "True\n"
     ]
    }
   ],
   "source": [
    "strA = \"hello\"\n",
    "\n",
    "print(strA.capitalize()) \n",
    "print(strA.count('e'))\n",
    "print(strA.count('e',0,2)) # position : 0~2  \n",
    "print(len(strA))\n",
    "print(max(strA))\n",
    "print(min(strA))\n",
    "print(strA.replace(\"l\",\"a\"))\n",
    "print(strA.replace(\"l\",\"a\",1))\n",
    "print(strA.center(10,'-'))\n",
    "\n",
    "strA = \"hello!\"\n",
    "print(strA.isalnum())\n",
    "\n",
    "strA=\"1231231\"\n",
    "print(strA.isdigit())\n"
   ]
  },
  {
   "cell_type": "markdown",
   "metadata": {},
   "source": [
    "#### 2.3 列表 (List)\n",
    "\n",
    "list = [] "
   ]
  },
  {
   "cell_type": "code",
   "execution_count": 15,
   "metadata": {},
   "outputs": [
    {
     "name": "stdout",
     "output_type": "stream",
     "text": [
      "[1, 2, 3, 4, 5, 6] <class 'list'>\n",
      "['Apple', 'Bee', 'Cat', 'Dog'] <class 'list'>\n",
      "['Apple', 123, 'Bee', 456] <class 'list'>\n"
     ]
    }
   ],
   "source": [
    "listA = [1,2,3,4,5,6]\n",
    "listB = [\"Apple\",\"Bee\",\"Cat\",\"Dog\"]\n",
    "listC = [\"Apple\",123,\"Bee\",456]\n",
    "print(listA , type(listA))\n",
    "print(listB , type(listB))\n",
    "print(listC , type(listC))"
   ]
  },
  {
   "cell_type": "markdown",
   "metadata": {},
   "source": [
    "##### 2.3.1 常用操作 \n",
    "<B>說明</B> : \n",
    "1. var[index] : 回傳list中特定位置元素\n",
    "2. var[start:end]： 回傳list中特定範圍的元素\n"
   ]
  },
  {
   "cell_type": "code",
   "execution_count": 58,
   "metadata": {},
   "outputs": [
    {
     "name": "stdout",
     "output_type": "stream",
     "text": [
      "1\n",
      "9\n",
      "[1, 3, 5]\n"
     ]
    }
   ],
   "source": [
    "listA = [1,3,5,7,9]\n",
    "print(listA[0])\n",
    "print(listA[-1])\n",
    "print(listA[0:3])"
   ]
  },
  {
   "cell_type": "markdown",
   "metadata": {},
   "source": [
    "##### 2.3.2 常用內建函數 \n",
    "<B>說明</B> :\n",
    "1. len() : 回傳List元素個數\n",
    "2. max() : 回傳List中最大的元素\n",
    "3. min() : 回傳List中最小的元素\n",
    "4. list() : 將Tuple, String 轉化為List\n",
    "5. append() : 新增list 元素\n",
    "6. insert(index,obj) : 新增某元素至list中特定位置\n",
    "7. remove : 移除list 中特定元素\n",
    "8. pop() : 移除list中最後一個元素\n",
    "9. sorrt() : 將list進行排序"
   ]
  },
  {
   "cell_type": "code",
   "execution_count": 60,
   "metadata": {},
   "outputs": [
    {
     "name": "stdout",
     "output_type": "stream",
     "text": [
      "4\n",
      "Dog\n",
      "Apple\n",
      "['H', 'e', 'l', 'l', 'o']\n",
      "['Apple', 'Bee', 'Cat', 'Dog', 'Elephant']\n",
      "['Apple', 'Air', 'Bee', 'Cat', 'Dog', 'Elephant']\n",
      "['Apple', 'Air', 'Bee', 'Cat', 'Dog']\n",
      "['Apple', 'Air', 'Bee', 'Cat']\n",
      "['Cat', 'Bee', 'Air', 'Apple']\n",
      "['Air', 'Apple', 'Bee', 'Cat']\n",
      "[4, 7, 10, 15, 20]\n"
     ]
    }
   ],
   "source": [
    "listA = [\"Apple\",123,\"Bee\",456]\n",
    "print(len(listA))\n",
    "\n",
    "listB =[\"Apple\",\"Bee\",\"Cat\",\"Dog\"]\n",
    "print(max(listB)) #　List中的元素需為相同型態\n",
    "print(min(listB)) #　List中的元素需為相同型態\n",
    "\n",
    "strC =\"Hello\"\n",
    "print(list(strC))\n",
    "\n",
    "listB.append(\"Elephant\")\n",
    "print(listB)\n",
    "\n",
    "listB.insert(1,\"Air\")\n",
    "print(listB)\n",
    "\n",
    "listB.remove(\"Elephant\")\n",
    "print(listB)\n",
    "\n",
    "listB.pop()\n",
    "print(listB)\n",
    "\n",
    "listB.reverse()\n",
    "print(listB)\n",
    "\n",
    "listB.sort()\n",
    "print(listB)\n",
    "\n",
    "listB = [10,4,7,20,15]\n",
    "listB.sort()\n",
    "print(listB)\n"
   ]
  },
  {
   "cell_type": "markdown",
   "metadata": {},
   "source": [
    "#### 2.4 字典 (Dictionary)\n",
    "\n",
    "dict = { key1 : value1, key2 : value2 }\n"
   ]
  },
  {
   "cell_type": "code",
   "execution_count": 143,
   "metadata": {},
   "outputs": [
    {
     "name": "stdout",
     "output_type": "stream",
     "text": [
      "dict['Course']:  計算機概論\n",
      "dict['Credit']:  2\n"
     ]
    },
    {
     "ename": "KeyError",
     "evalue": "'Number'",
     "output_type": "error",
     "traceback": [
      "\u001b[1;31m---------------------------------------------------------------------------\u001b[0m",
      "\u001b[1;31mKeyError\u001b[0m                                  Traceback (most recent call last)",
      "\u001b[1;32m<ipython-input-143-397c7817e75d>\u001b[0m in \u001b[0;36m<module>\u001b[1;34m()\u001b[0m\n\u001b[0;32m      3\u001b[0m \u001b[0mprint\u001b[0m \u001b[1;33m(\u001b[0m\u001b[1;34m\"dict['Credit']: \"\u001b[0m\u001b[1;33m,\u001b[0m \u001b[0mdict\u001b[0m\u001b[1;33m[\u001b[0m\u001b[1;34m'Credit'\u001b[0m\u001b[1;33m]\u001b[0m\u001b[1;33m)\u001b[0m\u001b[1;33m\u001b[0m\u001b[0m\n\u001b[0;32m      4\u001b[0m \u001b[1;33m\u001b[0m\u001b[0m\n\u001b[1;32m----> 5\u001b[1;33m \u001b[0mprint\u001b[0m \u001b[1;33m(\u001b[0m\u001b[1;34m\"dict['Credit']: \"\u001b[0m\u001b[1;33m,\u001b[0m \u001b[0mdict\u001b[0m\u001b[1;33m[\u001b[0m\u001b[1;34m'Number'\u001b[0m\u001b[1;33m]\u001b[0m\u001b[1;33m)\u001b[0m\u001b[1;33m\u001b[0m\u001b[0m\n\u001b[0m",
      "\u001b[1;31mKeyError\u001b[0m: 'Number'"
     ]
    }
   ],
   "source": [
    "dict = {'Course': '計算機概論', 'Teacher': 'Nick', 'Class': '1A', 'Credit' :2}\n",
    "print (\"dict['Course']: \", dict['Course'])\n",
    "print (\"dict['Credit']: \", dict['Credit'])\n",
    "\n",
    "print (\"dict['Credit']: \", dict['Number'])"
   ]
  },
  {
   "cell_type": "markdown",
   "metadata": {},
   "source": [
    "##### 2.4.1 更新字典"
   ]
  },
  {
   "cell_type": "code",
   "execution_count": 86,
   "metadata": {
    "scrolled": true
   },
   "outputs": [
    {
     "name": "stdout",
     "output_type": "stream",
     "text": [
      "{'Credit': 2, 'Department': '資管系', 'Class': '1A', 'Teacher': 'David', 'Course': '計算機概論'}\n"
     ]
    }
   ],
   "source": [
    "dict = {'Course': '計算機概論', 'Teacher': 'Nick', 'Class': '1A', 'Credit' :2}\n",
    "\n",
    "dict['Teacher'] = 'David'\n",
    "dict['Department'] = '資管系'\n",
    "print (dict)"
   ]
  },
  {
   "cell_type": "markdown",
   "metadata": {},
   "source": [
    "##### 2.4.2 删除字典 / 元素"
   ]
  },
  {
   "cell_type": "code",
   "execution_count": 87,
   "metadata": {},
   "outputs": [
    {
     "name": "stdout",
     "output_type": "stream",
     "text": [
      "{'Credit': 2, 'Class': '1A', 'Teacher': 'David', 'Course': '計算機概論'}\n"
     ]
    }
   ],
   "source": [
    "del dict['Department'];\n",
    "print(dict)"
   ]
  },
  {
   "cell_type": "code",
   "execution_count": 88,
   "metadata": {},
   "outputs": [
    {
     "name": "stdout",
     "output_type": "stream",
     "text": [
      "{}\n"
     ]
    }
   ],
   "source": [
    "dict.clear(); # 清空字典內所有元素\n",
    "print(dict)"
   ]
  },
  {
   "cell_type": "markdown",
   "metadata": {},
   "source": [
    "##### 2.4.3 常用操作函數 / 方法"
   ]
  },
  {
   "cell_type": "markdown",
   "metadata": {},
   "source": [
    "Function | 說明\n",
    "------|------\n",
    "len(dict)         | 計算字典個素\n",
    "dict.keys() | 顯示字典所有鍵值\n",
    "dict.values() | 顯示字典所有值\n",
    "dict.\\__contains__(key) | 判斷字典是否有某鍵值\n",
    "dict.popitem() | 隨機pop一個鍵值\n",
    "dict.pop(key) | 删除字典特定键 key"
   ]
  },
  {
   "cell_type": "code",
   "execution_count": 90,
   "metadata": {},
   "outputs": [
    {
     "data": {
      "text/plain": [
       "4"
      ]
     },
     "execution_count": 90,
     "metadata": {},
     "output_type": "execute_result"
    }
   ],
   "source": [
    "dict1 = {'Course': '計算機概論', 'Teacher': 'Nick', 'Class': '1A', 'Credit' :2}\n",
    "len(dict1)"
   ]
  },
  {
   "cell_type": "code",
   "execution_count": 91,
   "metadata": {},
   "outputs": [
    {
     "data": {
      "text/plain": [
       "True"
      ]
     },
     "execution_count": 91,
     "metadata": {},
     "output_type": "execute_result"
    }
   ],
   "source": [
    "dict1 = {'Course': '計算機概論', 'Teacher': 'Nick', 'Class': '1A', 'Credit' :2}\n",
    "dict1.__contains__('Course')"
   ]
  },
  {
   "cell_type": "code",
   "execution_count": 92,
   "metadata": {},
   "outputs": [
    {
     "data": {
      "text/plain": [
       "dict_keys(['Credit', 'Class', 'Teacher', 'Course'])"
      ]
     },
     "execution_count": 92,
     "metadata": {},
     "output_type": "execute_result"
    }
   ],
   "source": [
    "dict1.keys()"
   ]
  },
  {
   "cell_type": "code",
   "execution_count": 95,
   "metadata": {},
   "outputs": [
    {
     "data": {
      "text/plain": [
       "dict_values(['1A', 'Nick', '計算機概論'])"
      ]
     },
     "execution_count": 95,
     "metadata": {},
     "output_type": "execute_result"
    }
   ],
   "source": [
    "dict1.values()"
   ]
  },
  {
   "cell_type": "code",
   "execution_count": 105,
   "metadata": {},
   "outputs": [
    {
     "data": {
      "text/plain": [
       "{'Class': '1A', 'Course': '計算機概論', 'Teacher': 'Nick'}"
      ]
     },
     "execution_count": 105,
     "metadata": {},
     "output_type": "execute_result"
    }
   ],
   "source": [
    "dict1 = {'Course': '計算機概論', 'Teacher': 'Nick', 'Class': '1A', 'Credit' :2}\n",
    "dict1.popitem() # 隨機pop一個鍵值\n",
    "dict1 "
   ]
  },
  {
   "cell_type": "code",
   "execution_count": 106,
   "metadata": {},
   "outputs": [
    {
     "data": {
      "text/plain": [
       "{'Class': '1A', 'Course': '計算機概論', 'Credit': 2}"
      ]
     },
     "execution_count": 106,
     "metadata": {},
     "output_type": "execute_result"
    }
   ],
   "source": [
    "dict1 = {'Course': '計算機概論', 'Teacher': 'Nick', 'Class': '1A', 'Credit' :2}\n",
    "dict1.pop('Teacher') # pop某一個key\n",
    "dict1"
   ]
  },
  {
   "cell_type": "markdown",
   "metadata": {},
   "source": [
    "#### 2.5 元組 (Tuple)\n",
    "* tuple = ()\n",
    "* 與list相似,但無法更改元素"
   ]
  },
  {
   "cell_type": "code",
   "execution_count": 107,
   "metadata": {},
   "outputs": [],
   "source": [
    "tup1 = ()\n",
    "#tup2 = (50)\n",
    "tup2 = (50,)\n",
    "#type(tup2)\n",
    "tup3 = ('Dog', 'cat', 1997, 2000)\n",
    "tup4 = (1, 2, 3, 4, 5 )"
   ]
  },
  {
   "cell_type": "code",
   "execution_count": 108,
   "metadata": {},
   "outputs": [
    {
     "name": "stdout",
     "output_type": "stream",
     "text": [
      "tup3[0]: Dog\n",
      "tup4[1:5]: (2, 3, 4, 5)\n"
     ]
    }
   ],
   "source": [
    "print (\"tup3[0]:\", tup3[0])\n",
    "print (\"tup4[1:5]:\", tup4[1:5])"
   ]
  },
  {
   "cell_type": "code",
   "execution_count": 109,
   "metadata": {},
   "outputs": [
    {
     "ename": "TypeError",
     "evalue": "'tuple' object does not support item assignment",
     "output_type": "error",
     "traceback": [
      "\u001b[1;31m---------------------------------------------------------------------------\u001b[0m",
      "\u001b[1;31mTypeError\u001b[0m                                 Traceback (most recent call last)",
      "\u001b[1;32m<ipython-input-109-6a5bf6f2781e>\u001b[0m in \u001b[0;36m<module>\u001b[1;34m()\u001b[0m\n\u001b[1;32m----> 1\u001b[1;33m \u001b[0mtup3\u001b[0m\u001b[1;33m[\u001b[0m\u001b[1;36m0\u001b[0m\u001b[1;33m]\u001b[0m\u001b[1;33m=\u001b[0m\u001b[1;36m1\u001b[0m\u001b[1;33m\u001b[0m\u001b[0m\n\u001b[0m",
      "\u001b[1;31mTypeError\u001b[0m: 'tuple' object does not support item assignment"
     ]
    }
   ],
   "source": [
    "tup3[0]=1"
   ]
  },
  {
   "cell_type": "code",
   "execution_count": 110,
   "metadata": {},
   "outputs": [
    {
     "data": {
      "text/plain": [
       "('Dog', 'cat', 1997, 2000, 1, 2, 3, 4, 5)"
      ]
     },
     "execution_count": 110,
     "metadata": {},
     "output_type": "execute_result"
    }
   ],
   "source": [
    "tup5 = tup3 + tup4\n",
    "tup5"
   ]
  },
  {
   "cell_type": "code",
   "execution_count": 115,
   "metadata": {},
   "outputs": [],
   "source": [
    "#del tup3"
   ]
  },
  {
   "cell_type": "code",
   "execution_count": 116,
   "metadata": {},
   "outputs": [
    {
     "ename": "NameError",
     "evalue": "name 'tup3' is not defined",
     "output_type": "error",
     "traceback": [
      "\u001b[1;31m---------------------------------------------------------------------------\u001b[0m",
      "\u001b[1;31mNameError\u001b[0m                                 Traceback (most recent call last)",
      "\u001b[1;32m<ipython-input-116-f484f3ced80d>\u001b[0m in \u001b[0;36m<module>\u001b[1;34m()\u001b[0m\n\u001b[1;32m----> 1\u001b[1;33m \u001b[0mtup3\u001b[0m\u001b[1;33m\u001b[0m\u001b[0m\n\u001b[0m",
      "\u001b[1;31mNameError\u001b[0m: name 'tup3' is not defined"
     ]
    }
   ],
   "source": [
    "tup3"
   ]
  },
  {
   "cell_type": "code",
   "execution_count": 117,
   "metadata": {},
   "outputs": [
    {
     "data": {
      "text/plain": [
       "9"
      ]
     },
     "execution_count": 117,
     "metadata": {},
     "output_type": "execute_result"
    }
   ],
   "source": [
    "#計算Tuple中元素數目\n",
    "\n",
    "len(tup5)"
   ]
  },
  {
   "cell_type": "code",
   "execution_count": 118,
   "metadata": {},
   "outputs": [
    {
     "data": {
      "text/plain": [
       "5"
      ]
     },
     "execution_count": 118,
     "metadata": {},
     "output_type": "execute_result"
    }
   ],
   "source": [
    "#回傳Tuple中最大的元素\n",
    "\n",
    "max(tup4)"
   ]
  },
  {
   "cell_type": "code",
   "execution_count": 119,
   "metadata": {},
   "outputs": [
    {
     "data": {
      "text/plain": [
       "1"
      ]
     },
     "execution_count": 119,
     "metadata": {},
     "output_type": "execute_result"
    }
   ],
   "source": [
    "#回傳Tuple中最小的元素\n",
    "min(tup4)"
   ]
  },
  {
   "cell_type": "code",
   "execution_count": 133,
   "metadata": {},
   "outputs": [
    {
     "data": {
      "text/plain": [
       "(1, 2, 3, 4, 5, 6)"
      ]
     },
     "execution_count": 133,
     "metadata": {},
     "output_type": "execute_result"
    }
   ],
   "source": [
    "tuple([1,2,3,4,5,6])"
   ]
  },
  {
   "cell_type": "code",
   "execution_count": 132,
   "metadata": {},
   "outputs": [
    {
     "data": {
      "text/plain": [
       "('B', 'A', 'C')"
      ]
     },
     "execution_count": 132,
     "metadata": {},
     "output_type": "execute_result"
    }
   ],
   "source": [
    "A = tuple({\"A\":2,\"B\":5,\"C\":3}) \n",
    "A"
   ]
  },
  {
   "cell_type": "markdown",
   "metadata": {},
   "source": [
    "#### 2.6 集合 (Set)"
   ]
  },
  {
   "cell_type": "code",
   "execution_count": null,
   "metadata": {},
   "outputs": [],
   "source": []
  },
  {
   "cell_type": "code",
   "execution_count": null,
   "metadata": {},
   "outputs": [],
   "source": []
  },
  {
   "cell_type": "code",
   "execution_count": null,
   "metadata": {},
   "outputs": [],
   "source": []
  },
  {
   "cell_type": "code",
   "execution_count": null,
   "metadata": {},
   "outputs": [],
   "source": []
  },
  {
   "cell_type": "code",
   "execution_count": null,
   "metadata": {},
   "outputs": [],
   "source": []
  },
  {
   "cell_type": "markdown",
   "metadata": {},
   "source": [
    "### 3. 條件控制 "
   ]
  },
  {
   "cell_type": "markdown",
   "metadata": {},
   "source": [
    "##### IF ....ELSE "
   ]
  },
  {
   "cell_type": "code",
   "execution_count": 134,
   "metadata": {},
   "outputs": [
    {
     "name": "stdout",
     "output_type": "stream",
     "text": [
      "ByeBye\n"
     ]
    }
   ],
   "source": [
    "sex = 'F'\n",
    " \n",
    "if sex == 'M' :\n",
    "    print(\"Hello\")\n",
    "\n",
    "else:\n",
    "    print(\"ByeBye\")"
   ]
  },
  {
   "cell_type": "code",
   "execution_count": 145,
   "metadata": {},
   "outputs": [
    {
     "name": "stdout",
     "output_type": "stream",
     "text": [
      "ByeBye\n"
     ]
    }
   ],
   "source": [
    "# m if m > n else n\n",
    "\n",
    "print(\"Hello\") if sex == 'M' else print(\"ByeBye\")"
   ]
  },
  {
   "cell_type": "markdown",
   "metadata": {},
   "source": [
    "##### IF ....ELIF.....ELSE... "
   ]
  },
  {
   "cell_type": "code",
   "execution_count": 147,
   "metadata": {},
   "outputs": [
    {
     "name": "stdout",
     "output_type": "stream",
     "text": [
      "猜數字遊戲\n",
      "請輸入猜的數字：55\n",
      "猜的數字太大...\n"
     ]
    }
   ],
   "source": [
    "number = 35\n",
    "print(\"猜數字遊戲\")\n",
    "\n",
    "guess = int(input(\"請輸入猜的數字：\"))\n",
    " \n",
    "if guess == number:\n",
    "    print(\"猜對了!!\")\n",
    "elif guess < number:\n",
    "    print(\"猜的數字太小...\")\n",
    "else:\n",
    "    print(\"猜的數字太大...\")\n",
    " "
   ]
  },
  {
   "cell_type": "code",
   "execution_count": 150,
   "metadata": {},
   "outputs": [
    {
     "name": "stdout",
     "output_type": "stream",
     "text": [
      "D\n",
      "C\n"
     ]
    }
   ],
   "source": [
    "#巢狀if else迴圈\n",
    "\n",
    "score=85\n",
    "\n",
    "if(score>60):    \n",
    "    if(score>60 and score<=70):       \n",
    "        print(\"F\")    \n",
    "    elif(score>70 and score<=80):        \n",
    "        print(\"E\")    \n",
    "    elif(score>80 and score<=90):       \n",
    "        print(\"D\")       \n",
    "        if(score==85):           \n",
    "            print(\"C\")    \n",
    "    else:       \n",
    "        print(\"A\")"
   ]
  },
  {
   "cell_type": "markdown",
   "metadata": {},
   "source": [
    "### 4. 循環控制 For loop & While loop"
   ]
  },
  {
   "cell_type": "markdown",
   "metadata": {},
   "source": [
    "#### 4.1 For loop"
   ]
  },
  {
   "cell_type": "code",
   "execution_count": 198,
   "metadata": {},
   "outputs": [
    {
     "name": "stdout",
     "output_type": "stream",
     "text": [
      "1\n",
      "2\n",
      "3\n",
      "4\n",
      "5\n",
      "6\n",
      "7\n",
      "8\n",
      "9\n"
     ]
    }
   ],
   "source": [
    "# for(int i=0 ; i<10 ; i++)\n",
    "# {\n",
    "#    print(\"%d\",i)\n",
    "# }\n",
    "\n",
    "for i in range(1,10):\n",
    "    print(i)\n",
    "    "
   ]
  },
  {
   "cell_type": "code",
   "execution_count": 160,
   "metadata": {},
   "outputs": [
    {
     "name": "stdout",
     "output_type": "stream",
     "text": [
      "1 x 1 = 1\n",
      "1 x 2 = 2\n",
      "1 x 3 = 3\n",
      "1 x 4 = 4\n",
      "1 x 5 = 5\n",
      "1 x 6 = 6\n",
      "1 x 7 = 7\n",
      "1 x 8 = 8\n",
      "1 x 9 = 9\n",
      "2 x 1 = 2\n",
      "2 x 2 = 4\n",
      "2 x 3 = 6\n",
      "2 x 4 = 8\n",
      "2 x 5 = 10\n",
      "2 x 6 = 12\n",
      "2 x 7 = 14\n",
      "2 x 8 = 16\n",
      "2 x 9 = 18\n",
      "3 x 1 = 3\n",
      "3 x 2 = 6\n",
      "3 x 3 = 9\n",
      "3 x 4 = 12\n",
      "3 x 5 = 15\n",
      "3 x 6 = 18\n",
      "3 x 7 = 21\n",
      "3 x 8 = 24\n",
      "3 x 9 = 27\n",
      "4 x 1 = 4\n",
      "4 x 2 = 8\n",
      "4 x 3 = 12\n",
      "4 x 4 = 16\n",
      "4 x 5 = 20\n",
      "4 x 6 = 24\n",
      "4 x 7 = 28\n",
      "4 x 8 = 32\n",
      "4 x 9 = 36\n",
      "5 x 1 = 5\n",
      "5 x 2 = 10\n",
      "5 x 3 = 15\n",
      "5 x 4 = 20\n",
      "5 x 5 = 25\n",
      "5 x 6 = 30\n",
      "5 x 7 = 35\n",
      "5 x 8 = 40\n",
      "5 x 9 = 45\n",
      "6 x 1 = 6\n",
      "6 x 2 = 12\n",
      "6 x 3 = 18\n",
      "6 x 4 = 24\n",
      "6 x 5 = 30\n",
      "6 x 6 = 36\n",
      "6 x 7 = 42\n",
      "6 x 8 = 48\n",
      "6 x 9 = 54\n",
      "7 x 1 = 7\n",
      "7 x 2 = 14\n",
      "7 x 3 = 21\n",
      "7 x 4 = 28\n",
      "7 x 5 = 35\n",
      "7 x 6 = 42\n",
      "7 x 7 = 49\n",
      "7 x 8 = 56\n",
      "7 x 9 = 63\n",
      "8 x 1 = 8\n",
      "8 x 2 = 16\n",
      "8 x 3 = 24\n",
      "8 x 4 = 32\n",
      "8 x 5 = 40\n",
      "8 x 6 = 48\n",
      "8 x 7 = 56\n",
      "8 x 8 = 64\n",
      "8 x 9 = 72\n",
      "9 x 1 = 9\n",
      "9 x 2 = 18\n",
      "9 x 3 = 27\n",
      "9 x 4 = 36\n",
      "9 x 5 = 45\n",
      "9 x 6 = 54\n",
      "9 x 7 = 63\n",
      "9 x 8 = 72\n",
      "9 x 9 = 81\n"
     ]
    }
   ],
   "source": [
    "# for(int i=0 ; i<10 ; i++)\n",
    "# {\n",
    "#   for(int i=0 ; i<10 ; i++)\n",
    "#    {\n",
    "#         printf(\"%d x %d = %d\",i,j,i*j); \n",
    "#    }   \n",
    "# }\n",
    "\n",
    "for i in range(1,10):\n",
    "    for j in range(1,10):\n",
    "        print(\"%d x %d = %d\" %(i,j,i*j))"
   ]
  },
  {
   "cell_type": "code",
   "execution_count": 199,
   "metadata": {},
   "outputs": [
    {
     "name": "stdout",
     "output_type": "stream",
     "text": [
      "100\n",
      "200\n",
      "300\n",
      "400\n",
      "500\n",
      "600\n",
      "700\n"
     ]
    }
   ],
   "source": [
    "listA = [100,200,300,400,500,600,700]\n",
    "\n",
    "for item in listA:\n",
    "    print(item)"
   ]
  },
  {
   "cell_type": "code",
   "execution_count": 181,
   "metadata": {},
   "outputs": [
    {
     "name": "stdout",
     "output_type": "stream",
     "text": [
      "index = 0 , value = 100 \n",
      "index = 1 , value = 200 \n",
      "index = 2 , value = 300 \n",
      "index = 3 , value = 400 \n",
      "index = 4 , value = 500 \n",
      "index = 5 , value = 600 \n",
      "index = 6 , value = 700 \n"
     ]
    }
   ],
   "source": [
    "listA = [100,200,300,400,500,600,700]\n",
    "i = 0\n",
    "for item in listA:\n",
    "    print(\"index = %d , value = %d \"%(i,item))\n",
    "    i+=1"
   ]
  },
  {
   "cell_type": "code",
   "execution_count": 200,
   "metadata": {},
   "outputs": [
    {
     "name": "stdout",
     "output_type": "stream",
     "text": [
      "index = 0 , value = 100 \n",
      "index = 1 , value = 200 \n",
      "index = 2 , value = 300 \n",
      "index = 3 , value = 400 \n",
      "index = 4 , value = 500 \n",
      "index = 5 , value = 600 \n",
      "index = 6 , value = 700 \n"
     ]
    }
   ],
   "source": [
    "listA = [100,200,300,400,500,600,700]\n",
    "\n",
    "for idx, val in enumerate(listA):\n",
    "    print(\"index = %d , value = %d \"%(idx,val))"
   ]
  },
  {
   "cell_type": "code",
   "execution_count": null,
   "metadata": {},
   "outputs": [],
   "source": []
  },
  {
   "cell_type": "code",
   "execution_count": 6,
   "metadata": {},
   "outputs": [
    {
     "name": "stdout",
     "output_type": "stream",
     "text": [
      "1 到 100 之和为: 5050\n"
     ]
    }
   ],
   "source": [
    "n = 100\n",
    " \n",
    "sum = 0\n",
    "counter = 1\n",
    "while counter <= n:\n",
    "    sum = sum + counter\n",
    "    counter += 1\n",
    " \n",
    "print(\"1 到 %d 之和为: %d\" % (n,sum))"
   ]
  },
  {
   "cell_type": "code",
   "execution_count": null,
   "metadata": {},
   "outputs": [],
   "source": []
  },
  {
   "cell_type": "markdown",
   "metadata": {},
   "source": [
    "#### 4.2 While loop\n"
   ]
  },
  {
   "cell_type": "code",
   "execution_count": 209,
   "metadata": {},
   "outputs": [
    {
     "name": "stdout",
     "output_type": "stream",
     "text": [
      "0  < 5\n",
      "1  < 5\n",
      "2  < 5\n",
      "3  < 5\n",
      "4  < 5\n"
     ]
    }
   ],
   "source": [
    "count = 0\n",
    "while count < 5:\n",
    "    print (count, \" < 5\")\n",
    "    count += 1       "
   ]
  },
  {
   "cell_type": "code",
   "execution_count": 204,
   "metadata": {},
   "outputs": [
    {
     "name": "stdout",
     "output_type": "stream",
     "text": [
      "0  < 5\n",
      "1  < 5\n",
      "2  < 5\n",
      "3  < 5\n",
      "4  < 5\n",
      "5  >= 5\n"
     ]
    }
   ],
   "source": [
    "count = 0\n",
    "while count < 5:\n",
    "    print (count, \" < 5\")\n",
    "    count = count + 1\n",
    "else:\n",
    "    print (count, \" >= 5\")"
   ]
  },
  {
   "cell_type": "markdown",
   "metadata": {},
   "source": [
    "#### Break,Continue,Pass"
   ]
  },
  {
   "cell_type": "markdown",
   "metadata": {},
   "source": [
    "<B>* break : 用来終止迴圈</B>"
   ]
  },
  {
   "cell_type": "code",
   "execution_count": 211,
   "metadata": {},
   "outputs": [
    {
     "name": "stdout",
     "output_type": "stream",
     "text": [
      "p\n",
      "y\n",
      "t\n"
     ]
    }
   ],
   "source": [
    "for letter in 'python': \n",
    "    if letter == 'h':\n",
    "        break\n",
    "    print(letter)"
   ]
  },
  {
   "cell_type": "code",
   "execution_count": 193,
   "metadata": {},
   "outputs": [
    {
     "name": "stdout",
     "output_type": "stream",
     "text": [
      "貓咪\n",
      "Loop Finish!\n"
     ]
    }
   ],
   "source": [
    "animals = [\"Cat\", \"Dog\",\"Bird\",\"Panda\"]\n",
    "for animal in animals:\n",
    "    if animal == \"Cat\":\n",
    "        print(\"貓咪\")\n",
    "        break\n",
    "        print(\"data \" + animal)\n",
    "    else:\n",
    "        print(\"data \" + animal)\n",
    "\n",
    "print(\"Loop Finish!\")"
   ]
  },
  {
   "cell_type": "markdown",
   "metadata": {},
   "source": [
    "<B>* continue : 用来跳脫本次迴圈</B>"
   ]
  },
  {
   "cell_type": "code",
   "execution_count": 214,
   "metadata": {},
   "outputs": [
    {
     "name": "stdout",
     "output_type": "stream",
     "text": [
      "p\n",
      "y\n",
      "t\n",
      "o\n",
      "n\n"
     ]
    }
   ],
   "source": [
    "for letter in 'python': \n",
    "    if letter == 'h':\n",
    "        continue\n",
    "    print(letter)"
   ]
  },
  {
   "cell_type": "code",
   "execution_count": 216,
   "metadata": {},
   "outputs": [
    {
     "name": "stdout",
     "output_type": "stream",
     "text": [
      "貓咪\n",
      "data Dog\n",
      "data Bird\n",
      "data Panda\n",
      "Loop Finish!\n"
     ]
    }
   ],
   "source": [
    "animals = [\"Cat\", \"Dog\",\"Bird\",\"Panda\"]\n",
    "for animal in animals:\n",
    "    if animal == \"Cat\":\n",
    "        print(\"貓咪\")\n",
    "        continue\n",
    "        print(\"data \" + animal)\n",
    "    else:\n",
    "        print(\"data \" + animal)\n",
    "\n",
    "print(\"Loop Finish!\")"
   ]
  },
  {
   "cell_type": "markdown",
   "metadata": {},
   "source": [
    "<B>* pass : 不做任何事情為空语句，主要是為保持程式結構完整性</B>"
   ]
  },
  {
   "cell_type": "code",
   "execution_count": 217,
   "metadata": {},
   "outputs": [
    {
     "name": "stdout",
     "output_type": "stream",
     "text": [
      "p\n",
      "y\n",
      "t\n",
      "h\n",
      "o\n",
      "n\n"
     ]
    }
   ],
   "source": [
    "for letter in 'python': \n",
    "    if letter == 'h':\n",
    "        pass\n",
    "    print(letter)"
   ]
  },
  {
   "cell_type": "code",
   "execution_count": 218,
   "metadata": {},
   "outputs": [
    {
     "name": "stdout",
     "output_type": "stream",
     "text": [
      "貓咪\n",
      "data Cat\n",
      "data Dog\n",
      "data Bird\n",
      "data Panda\n",
      "Loop Finish!\n"
     ]
    }
   ],
   "source": [
    "animals = [\"Cat\", \"Dog\",\"Bird\",\"Panda\"]\n",
    "for animal in animals:\n",
    "    if animal == \"Cat\":\n",
    "        print(\"貓咪\")\n",
    "        pass\n",
    "        print(\"data \" + animal)\n",
    "    else:\n",
    "        print(\"data \" + animal)\n",
    "\n",
    "print(\"Loop Finish!\")"
   ]
  },
  {
   "cell_type": "markdown",
   "metadata": {},
   "source": [
    "### 5. 函數\n"
   ]
  },
  {
   "cell_type": "markdown",
   "metadata": {},
   "source": [
    "#### 5.1 自建函數"
   ]
  },
  {
   "cell_type": "code",
   "execution_count": 219,
   "metadata": {},
   "outputs": [
    {
     "name": "stdout",
     "output_type": "stream",
     "text": [
      "Hello World!\n"
     ]
    }
   ],
   "source": [
    "def hello() :\n",
    "    print(\"Hello World!\")\n",
    "\n",
    "hello()"
   ]
  },
  {
   "cell_type": "markdown",
   "metadata": {},
   "source": [
    "#### 5.2 自建函數(傳遞參數)\n"
   ]
  },
  {
   "cell_type": "code",
   "execution_count": 220,
   "metadata": {},
   "outputs": [
    {
     "name": "stdout",
     "output_type": "stream",
     "text": [
      "I'm Nick !\n"
     ]
    }
   ],
   "source": [
    "def printme( str ):\n",
    "    print (str)\n",
    "\n",
    "printme(\"I'm Nick !\")\n"
   ]
  },
  {
   "cell_type": "code",
   "execution_count": 33,
   "metadata": {},
   "outputs": [
    {
     "name": "stdout",
     "output_type": "stream",
     "text": [
      "I am David\n",
      "I am Nick\n"
     ]
    }
   ],
   "source": [
    "# Default Parameter Value\n",
    "\n",
    "def printme( name = 'Nick'):\n",
    "    print (\"I am \" + name)\n",
    "    \n",
    "\n",
    "printme(\"David\")\n",
    "printme()"
   ]
  },
  {
   "cell_type": "markdown",
   "metadata": {},
   "source": [
    "#### 5.3 全域變數\n"
   ]
  },
  {
   "cell_type": "code",
   "execution_count": 221,
   "metadata": {},
   "outputs": [
    {
     "name": "stdout",
     "output_type": "stream",
     "text": [
      "10\n",
      "123\n",
      "123\n"
     ]
    }
   ],
   "source": [
    "num = 10\n",
    "def functionA():\n",
    "    global num \n",
    "    print(num) \n",
    "    num = 123\n",
    "    print(num)\n",
    "functionA()\n",
    "print(num)"
   ]
  },
  {
   "cell_type": "markdown",
   "metadata": {},
   "source": [
    "#### 5.4 回傳值"
   ]
  },
  {
   "cell_type": "code",
   "execution_count": 225,
   "metadata": {},
   "outputs": [
    {
     "name": "stdout",
     "output_type": "stream",
     "text": [
      "10\n",
      "20\n",
      "30\n"
     ]
    }
   ],
   "source": [
    "def functionA(x):\n",
    "    return 10 * x\n",
    "\n",
    "print(functionA(1))\n",
    "print(functionA(2))\n",
    "print(functionA(3))"
   ]
  },
  {
   "cell_type": "code",
   "execution_count": 226,
   "metadata": {},
   "outputs": [
    {
     "name": "stdout",
     "output_type": "stream",
     "text": [
      "False\n",
      "True\n",
      "True\n"
     ]
    }
   ],
   "source": [
    "def functionA(x):\n",
    "    return True if x >15 else False\n",
    "\n",
    "print(functionA(10))\n",
    "print(functionA(20))\n",
    "print(functionA(30))"
   ]
  },
  {
   "cell_type": "markdown",
   "metadata": {},
   "source": [
    "#### 5.5 lambda"
   ]
  },
  {
   "cell_type": "code",
   "execution_count": 227,
   "metadata": {},
   "outputs": [
    {
     "name": "stdout",
     "output_type": "stream",
     "text": [
      "25\n"
     ]
    }
   ],
   "source": [
    "def functionA(a,b):\n",
    "    return a + b + 10\n",
    "\n",
    "print(functionA(5,10))"
   ]
  },
  {
   "cell_type": "code",
   "execution_count": 228,
   "metadata": {},
   "outputs": [
    {
     "name": "stdout",
     "output_type": "stream",
     "text": [
      "25\n"
     ]
    }
   ],
   "source": [
    "x = lambda a,b : a + b + 10\n",
    "print(x(5,10))"
   ]
  },
  {
   "cell_type": "code",
   "execution_count": 231,
   "metadata": {},
   "outputs": [
    {
     "name": "stdout",
     "output_type": "stream",
     "text": [
      "10\n"
     ]
    }
   ],
   "source": [
    "x = lambda a,b : a if a >b else b\n",
    "print(x(5,10))"
   ]
  },
  {
   "cell_type": "markdown",
   "metadata": {},
   "source": [
    "### 6. 類別 (Class) & 物件 (Object)"
   ]
  },
  {
   "cell_type": "markdown",
   "metadata": {},
   "source": [
    "#### 6.1 建立類別"
   ]
  },
  {
   "cell_type": "code",
   "execution_count": 234,
   "metadata": {},
   "outputs": [],
   "source": [
    "class MyClass:\n",
    "    x = 5"
   ]
  },
  {
   "cell_type": "markdown",
   "metadata": {},
   "source": [
    "#### 6.2 建立物件"
   ]
  },
  {
   "cell_type": "code",
   "execution_count": 235,
   "metadata": {},
   "outputs": [
    {
     "name": "stdout",
     "output_type": "stream",
     "text": [
      "5\n"
     ]
    }
   ],
   "source": [
    "A = MyClass()\n",
    "\n",
    "print(A.x)"
   ]
  },
  {
   "cell_type": "code",
   "execution_count": 236,
   "metadata": {},
   "outputs": [
    {
     "name": "stdout",
     "output_type": "stream",
     "text": [
      "John\n",
      "36\n"
     ]
    }
   ],
   "source": [
    "class Person:\n",
    "    def __init__(self, name, age):\n",
    "        self.name = name\n",
    "        self.age = age\n",
    "\n",
    "p1 = Person(\"John\", 36)\n",
    "\n",
    "print(p1.name)\n",
    "print(p1.age)"
   ]
  },
  {
   "cell_type": "code",
   "execution_count": 237,
   "metadata": {},
   "outputs": [
    {
     "name": "stdout",
     "output_type": "stream",
     "text": [
      "Hello my name is John\n"
     ]
    }
   ],
   "source": [
    "class Person:\n",
    "    def __init__(self, name, age):\n",
    "        self.name = name\n",
    "        self.age = age\n",
    "\n",
    "    def myfunc(self):\n",
    "        print(\"Hello my name is \" + self.name)\n",
    "\n",
    "p1 = Person(\"John\", 36)\n",
    "p1.myfunc()"
   ]
  },
  {
   "cell_type": "code",
   "execution_count": null,
   "metadata": {},
   "outputs": [],
   "source": []
  },
  {
   "cell_type": "code",
   "execution_count": null,
   "metadata": {},
   "outputs": [],
   "source": []
  },
  {
   "cell_type": "code",
   "execution_count": null,
   "metadata": {},
   "outputs": [],
   "source": []
  },
  {
   "cell_type": "code",
   "execution_count": null,
   "metadata": {},
   "outputs": [],
   "source": []
  },
  {
   "cell_type": "code",
   "execution_count": null,
   "metadata": {},
   "outputs": [],
   "source": []
  },
  {
   "cell_type": "markdown",
   "metadata": {},
   "source": [
    "### 7. FILE"
   ]
  },
  {
   "cell_type": "markdown",
   "metadata": {},
   "source": [
    "#### 7.0 基本操作說明\n",
    "* open() : 開啟檔案\n",
    "* .close() : 關閉檔案\n",
    "* .read() : 讀取檔案內容\n",
    "* .write() :寫入檔案"
   ]
  },
  {
   "cell_type": "markdown",
   "metadata": {},
   "source": [
    "\n",
    "參數 | 說明 \n",
    ":---|:---\n",
    "r | 讀取(檔案需存在)\n",
    "w | 新建檔案寫入(檔案可不存在，若存在則清空)\n",
    "a | 資料附加到舊檔案後面(游標指在EOF)\n",
    "r+ |  讀取舊資料並寫入(檔案需存在且游標指在開頭)\n",
    "w+ | 清空檔案內容，新寫入的東西可在讀出(檔案可不存在，會自行新增)\n",
    "a+ | 資料附加到舊檔案後面(游標指在EOF)，可讀取資料\n",
    "b  |二進位模式"
   ]
  },
  {
   "cell_type": "markdown",
   "metadata": {},
   "source": [
    "#### 7.1讀取檔案"
   ]
  },
  {
   "cell_type": "code",
   "execution_count": 58,
   "metadata": {},
   "outputs": [
    {
     "name": "stdout",
     "output_type": "stream",
     "text": [
      "asdaasdasd\n",
      "asdasdasd\n",
      "nmbmnb\n",
      "\n"
     ]
    }
   ],
   "source": [
    "f = open(\"data/demoText.txt\", \"r\")\n",
    "print(f.read())\n",
    "print(f.read(5))\n",
    "f.close()"
   ]
  },
  {
   "cell_type": "code",
   "execution_count": 14,
   "metadata": {},
   "outputs": [
    {
     "name": "stdout",
     "output_type": "stream",
     "text": [
      "Hello\n"
     ]
    }
   ],
   "source": [
    "f = open(\"data/demoText.txt\", \"r\")\n",
    "print(f.readline())\n",
    "f.close()"
   ]
  },
  {
   "cell_type": "code",
   "execution_count": 12,
   "metadata": {},
   "outputs": [
    {
     "name": "stdout",
     "output_type": "stream",
     "text": [
      "Hello\n"
     ]
    }
   ],
   "source": [
    "f = open(\"data/demoText.txt\", \"r\")\n",
    "for x in f:\n",
    "    print(x)\n",
    "    \n",
    "f.close()"
   ]
  },
  {
   "cell_type": "code",
   "execution_count": 4,
   "metadata": {},
   "outputs": [
    {
     "name": "stdout",
     "output_type": "stream",
     "text": [
      "asdaasdasd\n",
      "asdasdasd\n",
      "nmbmnb\n"
     ]
    }
   ],
   "source": [
    "# 避免檔案讀寫時造成IO ERROR , 無法關閉檔案\n",
    "try:\n",
    "    f = open(\"data/demoText.txt\", \"r\")\n",
    "    print(f.read())\n",
    "finally:\n",
    "    if f:\n",
    "        f.close()"
   ]
  },
  {
   "cell_type": "code",
   "execution_count": 5,
   "metadata": {},
   "outputs": [
    {
     "name": "stdout",
     "output_type": "stream",
     "text": [
      "asdaasdasd\n",
      "asdasdasd\n",
      "nmbmnb\n"
     ]
    }
   ],
   "source": [
    "with open(\"data/demoText.txt\", \"r\") as f:\n",
    "    print(f.read())"
   ]
  },
  {
   "cell_type": "markdown",
   "metadata": {},
   "source": [
    "#### 7.2寫入檔案"
   ]
  },
  {
   "cell_type": "code",
   "execution_count": 17,
   "metadata": {},
   "outputs": [
    {
     "name": "stdout",
     "output_type": "stream",
     "text": [
      "5\n"
     ]
    }
   ],
   "source": [
    "with open(\"data/demoTextA.txt\", \"w+\") as f:\n",
    "    print(f.write(\"Hello\"))"
   ]
  },
  {
   "cell_type": "code",
   "execution_count": null,
   "metadata": {},
   "outputs": [],
   "source": []
  }
 ],
 "metadata": {
  "kernelspec": {
   "display_name": "Python 3",
   "language": "python",
   "name": "python3"
  },
  "language_info": {
   "codemirror_mode": {
    "name": "ipython",
    "version": 3
   },
   "file_extension": ".py",
   "mimetype": "text/x-python",
   "name": "python",
   "nbconvert_exporter": "python",
   "pygments_lexer": "ipython3",
   "version": "3.5.4"
  }
 },
 "nbformat": 4,
 "nbformat_minor": 2
}
