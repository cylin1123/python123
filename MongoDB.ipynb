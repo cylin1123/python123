{
 "cells": [
  {
   "cell_type": "markdown",
   "metadata": {},
   "source": [
    "sudo service mongod start\n"
   ]
  },
  {
   "cell_type": "code",
   "execution_count": 4,
   "metadata": {},
   "outputs": [],
   "source": [
    "import pymongo\n",
    "\n",
    "myclient = pymongo.MongoClient(\"mongodb://localhost:27017/\")\n",
    "mydb = myclient[\"MyTestDB\"]"
   ]
  },
  {
   "cell_type": "code",
   "execution_count": 9,
   "metadata": {},
   "outputs": [
    {
     "name": "stdout",
     "output_type": "stream",
     "text": [
      "数据库已存在！\n"
     ]
    },
    {
     "name": "stderr",
     "output_type": "stream",
     "text": [
      "/home/user/.local/lib/python3.5/site-packages/ipykernel_launcher.py:2: DeprecationWarning: database_names is deprecated. Use list_database_names instead.\n",
      "  \n"
     ]
    }
   ],
   "source": [
    "#dblist = myclient.list_database_names()\n",
    "dblist = myclient.database_names() \n",
    "if \"MyTestDB\" in dblist:\n",
    "    print(\"数据库已存在！\")\n",
    "else:\n",
    "    print(\"数据库不存在！\")"
   ]
  },
  {
   "cell_type": "code",
   "execution_count": 6,
   "metadata": {},
   "outputs": [],
   "source": [
    "mycol = mydb[\"sites\"]"
   ]
  },
  {
   "cell_type": "code",
   "execution_count": null,
   "metadata": {},
   "outputs": [],
   "source": []
  },
  {
   "cell_type": "code",
   "execution_count": 10,
   "metadata": {},
   "outputs": [
    {
     "name": "stdout",
     "output_type": "stream",
     "text": [
      "['sites']\n",
      "集合已存在！\n"
     ]
    },
    {
     "name": "stderr",
     "output_type": "stream",
     "text": [
      "/home/user/.local/lib/python3.5/site-packages/ipykernel_launcher.py:2: DeprecationWarning: collection_names is deprecated. Use list_collection_names instead.\n",
      "  \n"
     ]
    }
   ],
   "source": [
    "#collist = mydb. list_collection_names()\n",
    "collist = mydb.collection_names()\n",
    "print(collist)\n",
    "if \"sites\" in collist:   # 判断 sites 集合是否存在\n",
    "    print(\"集合已存在！\")\n",
    "else:\n",
    "    print(\"集合不存在\")"
   ]
  },
  {
   "cell_type": "code",
   "execution_count": 8,
   "metadata": {},
   "outputs": [
    {
     "data": {
      "text/plain": [
       "<pymongo.results.InsertOneResult at 0x7efe90467b48>"
      ]
     },
     "execution_count": 8,
     "metadata": {},
     "output_type": "execute_result"
    }
   ],
   "source": [
    "mydict = { \"name\": \"RUNOOB\", \"alexa\": \"10000\", \"url\": \"https://www.runoob.com\" }\n",
    "mycol.insert_one(mydict)"
   ]
  },
  {
   "cell_type": "code",
   "execution_count": 11,
   "metadata": {},
   "outputs": [
    {
     "name": "stdout",
     "output_type": "stream",
     "text": [
      "5ba9d8ca5f627d0e0d8e30a7\n"
     ]
    }
   ],
   "source": [
    "mydict = { \"name\": \"Google\", \"alexa\": \"1\", \"url\": \"https://www.google.com\" }\n",
    " \n",
    "x = mycol.insert_one(mydict)\n",
    " \n",
    "print(x.inserted_id)"
   ]
  },
  {
   "cell_type": "code",
   "execution_count": 12,
   "metadata": {},
   "outputs": [
    {
     "name": "stdout",
     "output_type": "stream",
     "text": [
      "[ObjectId('5ba9d94a5f627d0e0d8e30a8'), ObjectId('5ba9d94a5f627d0e0d8e30a9'), ObjectId('5ba9d94a5f627d0e0d8e30aa'), ObjectId('5ba9d94a5f627d0e0d8e30ab'), ObjectId('5ba9d94a5f627d0e0d8e30ac')]\n"
     ]
    }
   ],
   "source": [
    "mylist = [\n",
    "  { \"name\": \"Taobao\", \"alexa\": \"100\", \"url\": \"https://www.taobao.com\" },\n",
    "  { \"name\": \"QQ\", \"alexa\": \"101\", \"url\": \"https://www.qq.com\" },\n",
    "  { \"name\": \"Facebook\", \"alexa\": \"10\", \"url\": \"https://www.facebook.com\" },\n",
    "  { \"name\": \"知乎\", \"alexa\": \"103\", \"url\": \"https://www.zhihu.com\" },\n",
    "  { \"name\": \"Github\", \"alexa\": \"109\", \"url\": \"https://www.github.com\" }\n",
    "]\n",
    " \n",
    "x = mycol.insert_many(mylist)\n",
    "print(x.inserted_ids)"
   ]
  },
  {
   "cell_type": "code",
   "execution_count": 13,
   "metadata": {},
   "outputs": [
    {
     "name": "stdout",
     "output_type": "stream",
     "text": [
      "[1, 2, 3, 4, 5]\n"
     ]
    }
   ],
   "source": [
    "mylist = [\n",
    "  { \"_id\": 1, \"name\": \"RUNOOB\", \"cn_name\": \"菜鸟教程\"},\n",
    "  { \"_id\": 2, \"name\": \"Google\", \"address\": \"Google 搜索\"},\n",
    "  { \"_id\": 3, \"name\": \"Facebook\", \"address\": \"脸书\"},\n",
    "  { \"_id\": 4, \"name\": \"Taobao\", \"address\": \"淘宝\"},\n",
    "  { \"_id\": 5, \"name\": \"Zhihu\", \"address\": \"知乎\"}\n",
    "]\n",
    " \n",
    "x = mycol.insert_many(mylist)\n",
    "print(x.inserted_ids)"
   ]
  },
  {
   "cell_type": "code",
   "execution_count": 15,
   "metadata": {},
   "outputs": [
    {
     "name": "stdout",
     "output_type": "stream",
     "text": [
      "{'alexa': '10000', '_id': ObjectId('5ba9d8785f627d0e0d8e30a6'), 'name': 'RUNOOB', 'url': 'https://www.runoob.com'}\n"
     ]
    }
   ],
   "source": [
    "x = mycol.find_one() \n",
    "print(x)"
   ]
  },
  {
   "cell_type": "code",
   "execution_count": 20,
   "metadata": {},
   "outputs": [
    {
     "name": "stdout",
     "output_type": "stream",
     "text": [
      "{'alexa': '10000', '_id': ObjectId('5ba9d8785f627d0e0d8e30a6'), 'name': 'RUNOOB', 'url': 'https://www.runoob.com'}\n",
      "{'alexa': '1', '_id': ObjectId('5ba9d8ca5f627d0e0d8e30a7'), 'name': 'Google', 'url': 'https://www.google.com'}\n",
      "{'alexa': '100', '_id': ObjectId('5ba9d94a5f627d0e0d8e30a8'), 'name': 'Taobao', 'url': 'https://www.taobao.com'}\n",
      "{'alexa': '101', '_id': ObjectId('5ba9d94a5f627d0e0d8e30a9'), 'name': 'QQ', 'url': 'https://www.qq.com'}\n",
      "{'alexa': '10', '_id': ObjectId('5ba9d94a5f627d0e0d8e30aa'), 'name': 'Facebook', 'url': 'https://www.facebook.com'}\n",
      "{'alexa': '103', '_id': ObjectId('5ba9d94a5f627d0e0d8e30ab'), 'name': '知乎', 'url': 'https://www.zhihu.com'}\n",
      "{'alexa': '109', '_id': ObjectId('5ba9d94a5f627d0e0d8e30ac'), 'name': 'Github', 'url': 'https://www.github.com'}\n",
      "{'_id': 1, 'name': 'RUNOOB', 'cn_name': '菜鸟教程'}\n",
      "{'name': 'Google', '_id': 2, 'address': 'Google 搜索'}\n",
      "{'name': 'Facebook', '_id': 3, 'address': '脸书'}\n",
      "{'name': 'Taobao', '_id': 4, 'address': '淘宝'}\n",
      "{'name': 'Zhihu', '_id': 5, 'address': '知乎'}\n"
     ]
    }
   ],
   "source": [
    "data = mycol.find()\n",
    "for x in data :\n",
    "    print(x)"
   ]
  },
  {
   "cell_type": "code",
   "execution_count": 17,
   "metadata": {},
   "outputs": [
    {
     "name": "stdout",
     "output_type": "stream",
     "text": [
      "{'alexa': '10000', '_id': ObjectId('5ba9d8785f627d0e0d8e30a6'), 'name': 'RUNOOB', 'url': 'https://www.runoob.com'}\n",
      "{'alexa': '1', '_id': ObjectId('5ba9d8ca5f627d0e0d8e30a7'), 'name': 'Google', 'url': 'https://www.google.com'}\n",
      "{'alexa': '100', '_id': ObjectId('5ba9d94a5f627d0e0d8e30a8'), 'name': 'Taobao', 'url': 'https://www.taobao.com'}\n",
      "{'alexa': '101', '_id': ObjectId('5ba9d94a5f627d0e0d8e30a9'), 'name': 'QQ', 'url': 'https://www.qq.com'}\n",
      "{'alexa': '10', '_id': ObjectId('5ba9d94a5f627d0e0d8e30aa'), 'name': 'Facebook', 'url': 'https://www.facebook.com'}\n",
      "{'alexa': '103', '_id': ObjectId('5ba9d94a5f627d0e0d8e30ab'), 'name': '知乎', 'url': 'https://www.zhihu.com'}\n",
      "{'alexa': '109', '_id': ObjectId('5ba9d94a5f627d0e0d8e30ac'), 'name': 'Github', 'url': 'https://www.github.com'}\n",
      "{'_id': 1, 'name': 'RUNOOB', 'cn_name': '菜鸟教程'}\n",
      "{'name': 'Google', '_id': 2, 'address': 'Google 搜索'}\n",
      "{'name': 'Facebook', '_id': 3, 'address': '脸书'}\n",
      "{'name': 'Taobao', '_id': 4, 'address': '淘宝'}\n",
      "{'name': 'Zhihu', '_id': 5, 'address': '知乎'}\n"
     ]
    }
   ],
   "source": [
    "for x in mycol.find():\n",
    "    print(x)"
   ]
  },
  {
   "cell_type": "code",
   "execution_count": 26,
   "metadata": {},
   "outputs": [
    {
     "name": "stdout",
     "output_type": "stream",
     "text": [
      "{'alexa': '10000', 'name': 'RUNOOB'}\n",
      "{'alexa': '1', 'name': 'Google'}\n",
      "{'alexa': '100', 'name': 'Taobao'}\n",
      "{'alexa': '101', 'name': 'QQ'}\n",
      "{'alexa': '10', 'name': 'Facebook'}\n",
      "{'alexa': '103', 'name': '知乎'}\n",
      "{'alexa': '109', 'name': 'Github'}\n",
      "{'name': 'RUNOOB'}\n",
      "{'name': 'Google'}\n",
      "{'name': 'Facebook'}\n",
      "{'name': 'Taobao'}\n",
      "{'name': 'Zhihu'}\n"
     ]
    }
   ],
   "source": [
    "for x in mycol.find({},{ \"_id\": 0, \"name\": 1, \"alexa\": 1 }):\n",
    "    print(x)"
   ]
  },
  {
   "cell_type": "code",
   "execution_count": 34,
   "metadata": {},
   "outputs": [
    {
     "name": "stdout",
     "output_type": "stream",
     "text": [
      "{'_id': ObjectId('5ba9d8785f627d0e0d8e30a6'), 'name': 'RUNOOB'}\n",
      "{'_id': ObjectId('5ba9d8ca5f627d0e0d8e30a7'), 'name': 'Google'}\n",
      "{'_id': ObjectId('5ba9d94a5f627d0e0d8e30a8'), 'name': 'Taobao'}\n",
      "{'_id': ObjectId('5ba9d94a5f627d0e0d8e30a9'), 'name': 'QQ'}\n",
      "{'_id': ObjectId('5ba9d94a5f627d0e0d8e30aa'), 'name': 'Facebook'}\n",
      "{'_id': ObjectId('5ba9d94a5f627d0e0d8e30ab'), 'name': '知乎'}\n",
      "{'_id': ObjectId('5ba9d94a5f627d0e0d8e30ac'), 'name': 'Github'}\n",
      "{'_id': 1, 'name': 'RUNOOB', 'cn_name': '菜鸟教程'}\n",
      "{'name': 'Google', '_id': 2, 'address': 'Google 搜索'}\n",
      "{'name': 'Facebook', '_id': 3, 'address': '脸书'}\n",
      "{'name': 'Taobao', '_id': 4, 'address': '淘宝'}\n",
      "{'name': 'Zhihu', '_id': 5, 'address': '知乎'}\n"
     ]
    }
   ],
   "source": [
    "for x in mycol.find({},{ \"alexa\": 0 ,\"url\": 0}):\n",
    "    print(x)"
   ]
  },
  {
   "cell_type": "code",
   "execution_count": 35,
   "metadata": {},
   "outputs": [
    {
     "ename": "OperationFailure",
     "evalue": "Projection cannot have a mix of inclusion and exclusion.",
     "output_type": "error",
     "traceback": [
      "\u001b[0;31m---------------------------------------------------------------------------\u001b[0m",
      "\u001b[0;31mOperationFailure\u001b[0m                          Traceback (most recent call last)",
      "\u001b[0;32m<ipython-input-35-aaf379d2edf2>\u001b[0m in \u001b[0;36m<module>\u001b[0;34m()\u001b[0m\n\u001b[0;32m----> 1\u001b[0;31m \u001b[0;32mfor\u001b[0m \u001b[0mx\u001b[0m \u001b[0;32min\u001b[0m \u001b[0mmycol\u001b[0m\u001b[0;34m.\u001b[0m\u001b[0mfind\u001b[0m\u001b[0;34m(\u001b[0m\u001b[0;34m{\u001b[0m\u001b[0;34m}\u001b[0m\u001b[0;34m,\u001b[0m\u001b[0;34m{\u001b[0m \u001b[0;34m\"name\"\u001b[0m\u001b[0;34m:\u001b[0m \u001b[0;36m1\u001b[0m\u001b[0;34m,\u001b[0m \u001b[0;34m\"alexa\"\u001b[0m\u001b[0;34m:\u001b[0m \u001b[0;36m0\u001b[0m \u001b[0;34m}\u001b[0m\u001b[0;34m)\u001b[0m\u001b[0;34m:\u001b[0m\u001b[0;34m\u001b[0m\u001b[0m\n\u001b[0m\u001b[1;32m      2\u001b[0m     \u001b[0mprint\u001b[0m\u001b[0;34m(\u001b[0m\u001b[0mx\u001b[0m\u001b[0;34m)\u001b[0m\u001b[0;34m\u001b[0m\u001b[0m\n",
      "\u001b[0;32m~/.local/lib/python3.5/site-packages/pymongo/cursor.py\u001b[0m in \u001b[0;36mnext\u001b[0;34m(self)\u001b[0m\n\u001b[1;32m   1187\u001b[0m         \u001b[0;32mif\u001b[0m \u001b[0mself\u001b[0m\u001b[0;34m.\u001b[0m\u001b[0m__empty\u001b[0m\u001b[0;34m:\u001b[0m\u001b[0;34m\u001b[0m\u001b[0m\n\u001b[1;32m   1188\u001b[0m             \u001b[0;32mraise\u001b[0m \u001b[0mStopIteration\u001b[0m\u001b[0;34m\u001b[0m\u001b[0m\n\u001b[0;32m-> 1189\u001b[0;31m         \u001b[0;32mif\u001b[0m \u001b[0mlen\u001b[0m\u001b[0;34m(\u001b[0m\u001b[0mself\u001b[0m\u001b[0;34m.\u001b[0m\u001b[0m__data\u001b[0m\u001b[0;34m)\u001b[0m \u001b[0;32mor\u001b[0m \u001b[0mself\u001b[0m\u001b[0;34m.\u001b[0m\u001b[0m_refresh\u001b[0m\u001b[0;34m(\u001b[0m\u001b[0;34m)\u001b[0m\u001b[0;34m:\u001b[0m\u001b[0;34m\u001b[0m\u001b[0m\n\u001b[0m\u001b[1;32m   1190\u001b[0m             \u001b[0;32mif\u001b[0m \u001b[0mself\u001b[0m\u001b[0;34m.\u001b[0m\u001b[0m__manipulate\u001b[0m\u001b[0;34m:\u001b[0m\u001b[0;34m\u001b[0m\u001b[0m\n\u001b[1;32m   1191\u001b[0m                 \u001b[0m_db\u001b[0m \u001b[0;34m=\u001b[0m \u001b[0mself\u001b[0m\u001b[0;34m.\u001b[0m\u001b[0m__collection\u001b[0m\u001b[0;34m.\u001b[0m\u001b[0mdatabase\u001b[0m\u001b[0;34m\u001b[0m\u001b[0m\n",
      "\u001b[0;32m~/.local/lib/python3.5/site-packages/pymongo/cursor.py\u001b[0m in \u001b[0;36m_refresh\u001b[0;34m(self)\u001b[0m\n\u001b[1;32m   1102\u001b[0m                                   \u001b[0mself\u001b[0m\u001b[0;34m.\u001b[0m\u001b[0m__session\u001b[0m\u001b[0;34m,\u001b[0m\u001b[0;34m\u001b[0m\u001b[0m\n\u001b[1;32m   1103\u001b[0m                                   self.__collection.database.client)\n\u001b[0;32m-> 1104\u001b[0;31m             \u001b[0mself\u001b[0m\u001b[0;34m.\u001b[0m\u001b[0m__send_message\u001b[0m\u001b[0;34m(\u001b[0m\u001b[0mq\u001b[0m\u001b[0;34m)\u001b[0m\u001b[0;34m\u001b[0m\u001b[0m\n\u001b[0m\u001b[1;32m   1105\u001b[0m         \u001b[0;32melif\u001b[0m \u001b[0mself\u001b[0m\u001b[0;34m.\u001b[0m\u001b[0m__id\u001b[0m\u001b[0;34m:\u001b[0m  \u001b[0;31m# Get More\u001b[0m\u001b[0;34m\u001b[0m\u001b[0m\n\u001b[1;32m   1106\u001b[0m             \u001b[0;32mif\u001b[0m \u001b[0mself\u001b[0m\u001b[0;34m.\u001b[0m\u001b[0m__limit\u001b[0m\u001b[0;34m:\u001b[0m\u001b[0;34m\u001b[0m\u001b[0m\n",
      "\u001b[0;32m~/.local/lib/python3.5/site-packages/pymongo/cursor.py\u001b[0m in \u001b[0;36m__send_message\u001b[0;34m(self, operation)\u001b[0m\n\u001b[1;32m    980\u001b[0m                 \u001b[0mfirst\u001b[0m \u001b[0;34m=\u001b[0m \u001b[0mdocs\u001b[0m\u001b[0;34m[\u001b[0m\u001b[0;36m0\u001b[0m\u001b[0;34m]\u001b[0m\u001b[0;34m\u001b[0m\u001b[0m\n\u001b[1;32m    981\u001b[0m                 \u001b[0mclient\u001b[0m\u001b[0;34m.\u001b[0m\u001b[0m_receive_cluster_time\u001b[0m\u001b[0;34m(\u001b[0m\u001b[0mfirst\u001b[0m\u001b[0;34m,\u001b[0m \u001b[0mself\u001b[0m\u001b[0;34m.\u001b[0m\u001b[0m__session\u001b[0m\u001b[0;34m)\u001b[0m\u001b[0;34m\u001b[0m\u001b[0m\n\u001b[0;32m--> 982\u001b[0;31m                 \u001b[0mhelpers\u001b[0m\u001b[0;34m.\u001b[0m\u001b[0m_check_command_response\u001b[0m\u001b[0;34m(\u001b[0m\u001b[0mfirst\u001b[0m\u001b[0;34m)\u001b[0m\u001b[0;34m\u001b[0m\u001b[0m\n\u001b[0m\u001b[1;32m    983\u001b[0m         \u001b[0;32mexcept\u001b[0m \u001b[0mOperationFailure\u001b[0m \u001b[0;32mas\u001b[0m \u001b[0mexc\u001b[0m\u001b[0;34m:\u001b[0m\u001b[0;34m\u001b[0m\u001b[0m\n\u001b[1;32m    984\u001b[0m             \u001b[0mself\u001b[0m\u001b[0;34m.\u001b[0m\u001b[0m__killed\u001b[0m \u001b[0;34m=\u001b[0m \u001b[0;32mTrue\u001b[0m\u001b[0;34m\u001b[0m\u001b[0m\n",
      "\u001b[0;32m~/.local/lib/python3.5/site-packages/pymongo/helpers.py\u001b[0m in \u001b[0;36m_check_command_response\u001b[0;34m(response, msg, allowable_errors, parse_write_concern_error)\u001b[0m\n\u001b[1;32m    153\u001b[0m \u001b[0;34m\u001b[0m\u001b[0m\n\u001b[1;32m    154\u001b[0m             \u001b[0mmsg\u001b[0m \u001b[0;34m=\u001b[0m \u001b[0mmsg\u001b[0m \u001b[0;32mor\u001b[0m \u001b[0;34m\"%s\"\u001b[0m\u001b[0;34m\u001b[0m\u001b[0m\n\u001b[0;32m--> 155\u001b[0;31m             \u001b[0;32mraise\u001b[0m \u001b[0mOperationFailure\u001b[0m\u001b[0;34m(\u001b[0m\u001b[0mmsg\u001b[0m \u001b[0;34m%\u001b[0m \u001b[0merrmsg\u001b[0m\u001b[0;34m,\u001b[0m \u001b[0mcode\u001b[0m\u001b[0;34m,\u001b[0m \u001b[0mresponse\u001b[0m\u001b[0;34m)\u001b[0m\u001b[0;34m\u001b[0m\u001b[0m\n\u001b[0m\u001b[1;32m    156\u001b[0m \u001b[0;34m\u001b[0m\u001b[0m\n\u001b[1;32m    157\u001b[0m \u001b[0;34m\u001b[0m\u001b[0m\n",
      "\u001b[0;31mOperationFailure\u001b[0m: Projection cannot have a mix of inclusion and exclusion."
     ]
    }
   ],
   "source": [
    "for x in mycol.find({},{ \"name\": 1, \"alexa\": 0 }):\n",
    "    print(x)"
   ]
  },
  {
   "cell_type": "code",
   "execution_count": 37,
   "metadata": {},
   "outputs": [
    {
     "name": "stdout",
     "output_type": "stream",
     "text": [
      "<pymongo.cursor.Cursor object at 0x7efe90369630>\n",
      "{'alexa': '10000', '_id': ObjectId('5ba9d8785f627d0e0d8e30a6'), 'name': 'RUNOOB', 'url': 'https://www.runoob.com'}\n",
      "{'_id': 1, 'name': 'RUNOOB', 'cn_name': '菜鸟教程'}\n"
     ]
    }
   ],
   "source": [
    "myquery = { \"name\": \"RUNOOB\" } \n",
    "mydoc = mycol.find(myquery) \n",
    "\n",
    "print (mydoc)\n",
    "\n",
    "for x in mydoc:\n",
    "     print(x)"
   ]
  },
  {
   "cell_type": "code",
   "execution_count": 40,
   "metadata": {},
   "outputs": [
    {
     "name": "stdout",
     "output_type": "stream",
     "text": [
      "{'alexa': '1', '_id': ObjectId('5ba9d8ca5f627d0e0d8e30a7'), 'name': 'Google', 'url': 'https://www.google.com'}\n",
      "{'alexa': '10', '_id': ObjectId('5ba9d94a5f627d0e0d8e30aa'), 'name': 'Facebook', 'url': 'https://www.facebook.com'}\n",
      "{'alexa': '109', '_id': ObjectId('5ba9d94a5f627d0e0d8e30ac'), 'name': 'Github', 'url': 'https://www.github.com'}\n",
      "{'name': 'Google', '_id': 2, 'address': 'Google 搜索'}\n",
      "{'name': 'Facebook', '_id': 3, 'address': '脸书'}\n"
     ]
    }
   ],
   "source": [
    "myquery = { \"name\": { \"$lt\": \"H\" } }\n",
    " \n",
    "mydoc = mycol.find(myquery)\n",
    " \n",
    "for x in mydoc:\n",
    "    print(x)"
   ]
  },
  {
   "cell_type": "code",
   "execution_count": 41,
   "metadata": {},
   "outputs": [
    {
     "name": "stdout",
     "output_type": "stream",
     "text": [
      "{'alexa': '10000', '_id': ObjectId('5ba9d8785f627d0e0d8e30a6'), 'name': 'RUNOOB', 'url': 'https://www.runoob.com'}\n",
      "{'_id': 1, 'name': 'RUNOOB', 'cn_name': '菜鸟教程'}\n"
     ]
    }
   ],
   "source": [
    "myquery = { \"name\": { \"$regex\": \"^R\" } }\n",
    " \n",
    "mydoc = mycol.find(myquery)\n",
    " \n",
    "for x in mydoc:\n",
    "    print(x)"
   ]
  },
  {
   "cell_type": "code",
   "execution_count": 42,
   "metadata": {},
   "outputs": [
    {
     "name": "stdout",
     "output_type": "stream",
     "text": [
      "{'alexa': '10000', '_id': ObjectId('5ba9d8785f627d0e0d8e30a6'), 'name': 'RUNOOB', 'url': 'https://www.runoob.com'}\n",
      "{'alexa': '1', '_id': ObjectId('5ba9d8ca5f627d0e0d8e30a7'), 'name': 'Google', 'url': 'https://www.google.com'}\n",
      "{'alexa': '100', '_id': ObjectId('5ba9d94a5f627d0e0d8e30a8'), 'name': 'Taobao', 'url': 'https://www.taobao.com'}\n"
     ]
    }
   ],
   "source": [
    "myresult = mycol.find().limit(3)\n",
    " \n",
    "# 输出结果\n",
    "for x in myresult:\n",
    "    print(x)"
   ]
  },
  {
   "cell_type": "code",
   "execution_count": 43,
   "metadata": {},
   "outputs": [
    {
     "name": "stdout",
     "output_type": "stream",
     "text": [
      "{'alexa': '12345', '_id': ObjectId('5ba9d8785f627d0e0d8e30a6'), 'name': 'RUNOOB', 'url': 'https://www.runoob.com'}\n",
      "{'alexa': '1', '_id': ObjectId('5ba9d8ca5f627d0e0d8e30a7'), 'name': 'Google', 'url': 'https://www.google.com'}\n",
      "{'alexa': '100', '_id': ObjectId('5ba9d94a5f627d0e0d8e30a8'), 'name': 'Taobao', 'url': 'https://www.taobao.com'}\n",
      "{'alexa': '101', '_id': ObjectId('5ba9d94a5f627d0e0d8e30a9'), 'name': 'QQ', 'url': 'https://www.qq.com'}\n",
      "{'alexa': '10', '_id': ObjectId('5ba9d94a5f627d0e0d8e30aa'), 'name': 'Facebook', 'url': 'https://www.facebook.com'}\n",
      "{'alexa': '103', '_id': ObjectId('5ba9d94a5f627d0e0d8e30ab'), 'name': '知乎', 'url': 'https://www.zhihu.com'}\n",
      "{'alexa': '109', '_id': ObjectId('5ba9d94a5f627d0e0d8e30ac'), 'name': 'Github', 'url': 'https://www.github.com'}\n",
      "{'_id': 1, 'name': 'RUNOOB', 'cn_name': '菜鸟教程'}\n",
      "{'name': 'Google', '_id': 2, 'address': 'Google 搜索'}\n",
      "{'name': 'Facebook', '_id': 3, 'address': '脸书'}\n",
      "{'name': 'Taobao', '_id': 4, 'address': '淘宝'}\n",
      "{'name': 'Zhihu', '_id': 5, 'address': '知乎'}\n"
     ]
    }
   ],
   "source": [
    "myquery = { \"alexa\": \"10000\" }\n",
    "newvalues = { \"$set\": { \"alexa\": \"12345\" } }\n",
    " \n",
    "mycol.update_one(myquery, newvalues)\n",
    " \n",
    "# 输出修改后的  \"sites\"  集合\n",
    "for x in mycol.find():\n",
    "    print(x)"
   ]
  },
  {
   "cell_type": "code",
   "execution_count": 44,
   "metadata": {},
   "outputs": [
    {
     "name": "stdout",
     "output_type": "stream",
     "text": [
      "2 文档已修改\n"
     ]
    }
   ],
   "source": [
    "myquery = { \"name\": { \"$regex\": \"^F\" } }\n",
    "newvalues = { \"$set\": { \"alexa\": \"123\" } }\n",
    " \n",
    "x = mycol.update_many(myquery, newvalues)\n",
    " \n",
    "print(x.modified_count, \"文档已修改\")"
   ]
  },
  {
   "cell_type": "code",
   "execution_count": 45,
   "metadata": {},
   "outputs": [
    {
     "name": "stdout",
     "output_type": "stream",
     "text": [
      "{'_id': 1, 'name': 'RUNOOB', 'cn_name': '菜鸟教程'}\n",
      "{'name': 'Google', '_id': 2, 'address': 'Google 搜索'}\n",
      "{'name': 'Taobao', '_id': 4, 'address': '淘宝'}\n",
      "{'name': 'Zhihu', '_id': 5, 'address': '知乎'}\n",
      "{'alexa': '1', '_id': ObjectId('5ba9d8ca5f627d0e0d8e30a7'), 'name': 'Google', 'url': 'https://www.google.com'}\n",
      "{'alexa': '100', '_id': ObjectId('5ba9d94a5f627d0e0d8e30a8'), 'name': 'Taobao', 'url': 'https://www.taobao.com'}\n",
      "{'alexa': '101', '_id': ObjectId('5ba9d94a5f627d0e0d8e30a9'), 'name': 'QQ', 'url': 'https://www.qq.com'}\n",
      "{'alexa': '103', '_id': ObjectId('5ba9d94a5f627d0e0d8e30ab'), 'name': '知乎', 'url': 'https://www.zhihu.com'}\n",
      "{'alexa': '109', '_id': ObjectId('5ba9d94a5f627d0e0d8e30ac'), 'name': 'Github', 'url': 'https://www.github.com'}\n",
      "{'alexa': '123', '_id': ObjectId('5ba9d94a5f627d0e0d8e30aa'), 'name': 'Facebook', 'url': 'https://www.facebook.com'}\n",
      "{'alexa': '123', 'name': 'Facebook', '_id': 3, 'address': '脸书'}\n",
      "{'alexa': '12345', '_id': ObjectId('5ba9d8785f627d0e0d8e30a6'), 'name': 'RUNOOB', 'url': 'https://www.runoob.com'}\n"
     ]
    }
   ],
   "source": [
    "mydoc = mycol.find().sort(\"alexa\")\n",
    "for x in mydoc:\n",
    "    print(x)"
   ]
  },
  {
   "cell_type": "code",
   "execution_count": 46,
   "metadata": {},
   "outputs": [
    {
     "name": "stdout",
     "output_type": "stream",
     "text": [
      "{'alexa': '12345', '_id': ObjectId('5ba9d8785f627d0e0d8e30a6'), 'name': 'RUNOOB', 'url': 'https://www.runoob.com'}\n",
      "{'alexa': '123', '_id': ObjectId('5ba9d94a5f627d0e0d8e30aa'), 'name': 'Facebook', 'url': 'https://www.facebook.com'}\n",
      "{'alexa': '123', 'name': 'Facebook', '_id': 3, 'address': '脸书'}\n",
      "{'alexa': '109', '_id': ObjectId('5ba9d94a5f627d0e0d8e30ac'), 'name': 'Github', 'url': 'https://www.github.com'}\n",
      "{'alexa': '103', '_id': ObjectId('5ba9d94a5f627d0e0d8e30ab'), 'name': '知乎', 'url': 'https://www.zhihu.com'}\n",
      "{'alexa': '101', '_id': ObjectId('5ba9d94a5f627d0e0d8e30a9'), 'name': 'QQ', 'url': 'https://www.qq.com'}\n",
      "{'alexa': '100', '_id': ObjectId('5ba9d94a5f627d0e0d8e30a8'), 'name': 'Taobao', 'url': 'https://www.taobao.com'}\n",
      "{'alexa': '1', '_id': ObjectId('5ba9d8ca5f627d0e0d8e30a7'), 'name': 'Google', 'url': 'https://www.google.com'}\n",
      "{'_id': 1, 'name': 'RUNOOB', 'cn_name': '菜鸟教程'}\n",
      "{'name': 'Google', '_id': 2, 'address': 'Google 搜索'}\n",
      "{'name': 'Taobao', '_id': 4, 'address': '淘宝'}\n",
      "{'name': 'Zhihu', '_id': 5, 'address': '知乎'}\n"
     ]
    }
   ],
   "source": [
    "mydoc = mycol.find().sort(\"alexa\", -1)\n",
    " \n",
    "for x in mydoc:\n",
    "    print(x)"
   ]
  },
  {
   "cell_type": "code",
   "execution_count": 47,
   "metadata": {},
   "outputs": [
    {
     "name": "stdout",
     "output_type": "stream",
     "text": [
      "{'alexa': '12345', '_id': ObjectId('5ba9d8785f627d0e0d8e30a6'), 'name': 'RUNOOB', 'url': 'https://www.runoob.com'}\n",
      "{'alexa': '1', '_id': ObjectId('5ba9d8ca5f627d0e0d8e30a7'), 'name': 'Google', 'url': 'https://www.google.com'}\n",
      "{'alexa': '101', '_id': ObjectId('5ba9d94a5f627d0e0d8e30a9'), 'name': 'QQ', 'url': 'https://www.qq.com'}\n",
      "{'alexa': '123', '_id': ObjectId('5ba9d94a5f627d0e0d8e30aa'), 'name': 'Facebook', 'url': 'https://www.facebook.com'}\n",
      "{'alexa': '103', '_id': ObjectId('5ba9d94a5f627d0e0d8e30ab'), 'name': '知乎', 'url': 'https://www.zhihu.com'}\n",
      "{'alexa': '109', '_id': ObjectId('5ba9d94a5f627d0e0d8e30ac'), 'name': 'Github', 'url': 'https://www.github.com'}\n",
      "{'_id': 1, 'name': 'RUNOOB', 'cn_name': '菜鸟教程'}\n",
      "{'name': 'Google', '_id': 2, 'address': 'Google 搜索'}\n",
      "{'alexa': '123', 'name': 'Facebook', '_id': 3, 'address': '脸书'}\n",
      "{'name': 'Taobao', '_id': 4, 'address': '淘宝'}\n",
      "{'name': 'Zhihu', '_id': 5, 'address': '知乎'}\n"
     ]
    }
   ],
   "source": [
    "myquery = { \"name\": \"Taobao\" }\n",
    " \n",
    "mycol.delete_one(myquery)\n",
    " \n",
    "# 删除后输出\n",
    "for x in mycol.find():\n",
    "    print(x)"
   ]
  },
  {
   "cell_type": "code",
   "execution_count": 48,
   "metadata": {},
   "outputs": [
    {
     "name": "stdout",
     "output_type": "stream",
     "text": [
      "2 个文档已删除\n"
     ]
    }
   ],
   "source": [
    "myquery = { \"name\": {\"$regex\": \"^F\"} }\n",
    " \n",
    "x = mycol.delete_many(myquery)\n",
    " \n",
    "print(x.deleted_count, \"个文档已删除\")"
   ]
  },
  {
   "cell_type": "code",
   "execution_count": 49,
   "metadata": {},
   "outputs": [
    {
     "name": "stdout",
     "output_type": "stream",
     "text": [
      "9 个文档已删除\n"
     ]
    }
   ],
   "source": [
    "x = mycol.delete_many({})\n",
    " \n",
    "print(x.deleted_count, \"个文档已删除\")"
   ]
  },
  {
   "cell_type": "code",
   "execution_count": 50,
   "metadata": {},
   "outputs": [],
   "source": [
    "mycol.drop()"
   ]
  },
  {
   "cell_type": "code",
   "execution_count": null,
   "metadata": {},
   "outputs": [],
   "source": []
  }
 ],
 "metadata": {
  "kernelspec": {
   "display_name": "Python 3",
   "language": "python",
   "name": "python3"
  },
  "language_info": {
   "codemirror_mode": {
    "name": "ipython",
    "version": 3
   },
   "file_extension": ".py",
   "mimetype": "text/x-python",
   "name": "python",
   "nbconvert_exporter": "python",
   "pygments_lexer": "ipython3",
   "version": "3.5.2"
  }
 },
 "nbformat": 4,
 "nbformat_minor": 2
}
