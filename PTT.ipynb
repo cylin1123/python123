{
 "cells": [
  {
   "cell_type": "code",
   "execution_count": 1,
   "metadata": {},
   "outputs": [],
   "source": [
    "import requests\n",
    "from bs4 import BeautifulSoup\n",
    "from selenium import webdriver"
   ]
  },
  {
   "cell_type": "code",
   "execution_count": 21,
   "metadata": {},
   "outputs": [
    {
     "name": "stdout",
     "output_type": "stream",
     "text": [
      "/url?q=https://www.ptt.cc/bbs/HatePolitics/M.1539669111.A.B2D.html&sa=U&ved=0ahUKEwjprazT_5beAhVM6LwKHUnhDM0QFggTMAA&usg=AOvVaw3fRl_wkzt-n9ZyNYIdIy9W\n",
      "/url?q=http://webcache.googleusercontent.com/search%3Fq%3Dcache:J6DuL8HPhvMJ:https://www.ptt.cc/bbs/HatePolitics/M.1539669111.A.B2D.html%252B%25E9%25AB%2598%25E9%259B%2584%25E9%2581%25B8%25E6%2583%2585%2Bsite:www.ptt.cc%26hl%3Dzh-TW%26ct%3Dclnk&sa=U&ved=0ahUKEwjprazT_5beAhVM6LwKHUnhDM0QIAgWMAA&usg=AOvVaw1NUP19L9yQeiDKSUcsYc1j\n",
      "/url?q=https://www.ptt.cc/bbs/HatePolitics/M.1538578555.A.D44.html&sa=U&ved=0ahUKEwjprazT_5beAhVM6LwKHUnhDM0QFggZMAE&usg=AOvVaw0O6roirS2JOgkcaDBApW1L\n",
      "/url?q=http://webcache.googleusercontent.com/search%3Fq%3Dcache:VErY7c41l40J:https://www.ptt.cc/bbs/HatePolitics/M.1538578555.A.D44.html%252B%25E9%25AB%2598%25E9%259B%2584%25E9%2581%25B8%25E6%2583%2585%2Bsite:www.ptt.cc%26hl%3Dzh-TW%26ct%3Dclnk&sa=U&ved=0ahUKEwjprazT_5beAhVM6LwKHUnhDM0QIAgcMAE&usg=AOvVaw0BLlfIkaK58qPSKB9tIiEv\n",
      "/url?q=https://www.ptt.cc/bbs/HatePolitics/M.1539531539.A.6D4.html&sa=U&ved=0ahUKEwjprazT_5beAhVM6LwKHUnhDM0QFggfMAI&usg=AOvVaw3SeahmbHJY8Xj4Hi5N54UG\n",
      "/url?q=http://webcache.googleusercontent.com/search%3Fq%3Dcache:DY_6uq9cSDkJ:https://www.ptt.cc/bbs/HatePolitics/M.1539531539.A.6D4.html%252B%25E9%25AB%2598%25E9%259B%2584%25E9%2581%25B8%25E6%2583%2585%2Bsite:www.ptt.cc%26hl%3Dzh-TW%26ct%3Dclnk&sa=U&ved=0ahUKEwjprazT_5beAhVM6LwKHUnhDM0QIAgiMAI&usg=AOvVaw1ZhNyHoJqNs44kgJNsdfnd\n",
      "/url?q=https://www.ptt.cc/bbs/HatePolitics/M.1540052107.A.6E5.html&sa=U&ved=0ahUKEwjprazT_5beAhVM6LwKHUnhDM0QFggkMAM&usg=AOvVaw0zT40zlEBtAIijK0UnUqU-\n",
      "/url?q=http://webcache.googleusercontent.com/search%3Fq%3Dcache:vTtsgfruR38J:https://www.ptt.cc/bbs/HatePolitics/M.1540052107.A.6E5.html%252B%25E9%25AB%2598%25E9%259B%2584%25E9%2581%25B8%25E6%2583%2585%2Bsite:www.ptt.cc%26hl%3Dzh-TW%26ct%3Dclnk&sa=U&ved=0ahUKEwjprazT_5beAhVM6LwKHUnhDM0QIAgnMAM&usg=AOvVaw3utzDfPs32jmalUZR2LGlZ\n",
      "/url?q=https://www.ptt.cc/bbs/HatePolitics/M.1540015916.A.3B6.html&sa=U&ved=0ahUKEwjprazT_5beAhVM6LwKHUnhDM0QFggpMAQ&usg=AOvVaw2TcAwammgqDqyJ7sUTMZDQ\n",
      "/url?q=http://webcache.googleusercontent.com/search%3Fq%3Dcache:6Uso0LQRMfwJ:https://www.ptt.cc/bbs/HatePolitics/M.1540015916.A.3B6.html%252B%25E9%25AB%2598%25E9%259B%2584%25E9%2581%25B8%25E6%2583%2585%2Bsite:www.ptt.cc%26hl%3Dzh-TW%26ct%3Dclnk&sa=U&ved=0ahUKEwjprazT_5beAhVM6LwKHUnhDM0QIAgsMAQ&usg=AOvVaw1gztsDSlTQghU9Sl0WnZy8\n",
      "/url?q=https://www.ptt.cc/bbs/HatePolitics/M.1540051143.A.4A0.html&sa=U&ved=0ahUKEwjprazT_5beAhVM6LwKHUnhDM0QFggvMAU&usg=AOvVaw0CI3hnYHauf-pXJ5iTiUu-\n",
      "/url?q=http://webcache.googleusercontent.com/search%3Fq%3Dcache:BGSzdFTIfUkJ:https://www.ptt.cc/bbs/HatePolitics/M.1540051143.A.4A0.html%252B%25E9%25AB%2598%25E9%259B%2584%25E9%2581%25B8%25E6%2583%2585%2Bsite:www.ptt.cc%26hl%3Dzh-TW%26ct%3Dclnk&sa=U&ved=0ahUKEwjprazT_5beAhVM6LwKHUnhDM0QIAgyMAU&usg=AOvVaw2DhZqQKqpA-1m4GTFDt0iV\n",
      "/url?q=https://www.ptt.cc/bbs/Gossiping/M.1540019676.A.B79.html&sa=U&ved=0ahUKEwjprazT_5beAhVM6LwKHUnhDM0QFgg1MAY&usg=AOvVaw0m5lZ_IoHxLQuq7dcJVraJ\n",
      "/url?q=http://webcache.googleusercontent.com/search%3Fq%3Dcache:4jc4_nJ5_nEJ:https://www.ptt.cc/bbs/Gossiping/M.1540019676.A.B79.html%252B%25E9%25AB%2598%25E9%259B%2584%25E9%2581%25B8%25E6%2583%2585%2Bsite:www.ptt.cc%26hl%3Dzh-TW%26ct%3Dclnk&sa=U&ved=0ahUKEwjprazT_5beAhVM6LwKHUnhDM0QIAg4MAY&usg=AOvVaw32cqX3ekyTpPQ1uhRdrgQv\n",
      "/url?q=https://www.ptt.cc/bbs/HatePolitics/M.1540018001.A.A33.html&sa=U&ved=0ahUKEwjprazT_5beAhVM6LwKHUnhDM0QFgg7MAc&usg=AOvVaw3lT_mqgwJSsdHPdrOGNCV3\n",
      "/url?q=http://webcache.googleusercontent.com/search%3Fq%3Dcache:fA0iKCt7imoJ:https://www.ptt.cc/bbs/HatePolitics/M.1540018001.A.A33.html%252B%25E9%25AB%2598%25E9%259B%2584%25E9%2581%25B8%25E6%2583%2585%2Bsite:www.ptt.cc%26hl%3Dzh-TW%26ct%3Dclnk&sa=U&ved=0ahUKEwjprazT_5beAhVM6LwKHUnhDM0QIAg-MAc&usg=AOvVaw3GY-4urL87D2iDhcu1Vq2G\n",
      "/url?q=https://www.ptt.cc/bbs/HatePolitics/M.1537855259.A.9F0.html&sa=U&ved=0ahUKEwjprazT_5beAhVM6LwKHUnhDM0QFghBMAg&usg=AOvVaw3otMO1c6TeRdXJs5I4axeD\n",
      "/url?q=http://webcache.googleusercontent.com/search%3Fq%3Dcache:iuO3rloRbUIJ:https://www.ptt.cc/bbs/HatePolitics/M.1537855259.A.9F0.html%252B%25E9%25AB%2598%25E9%259B%2584%25E9%2581%25B8%25E6%2583%2585%2Bsite:www.ptt.cc%26hl%3Dzh-TW%26ct%3Dclnk&sa=U&ved=0ahUKEwjprazT_5beAhVM6LwKHUnhDM0QIAhEMAg&usg=AOvVaw1-GsDnCzCjQddwGo1xw8F8\n",
      "/url?q=https://www.ptt.cc/bbs/HatePolitics/M.1538583348.A.B6A.html&sa=U&ved=0ahUKEwjprazT_5beAhVM6LwKHUnhDM0QFghGMAk&usg=AOvVaw3xPFY7MoSC6PzGgS6hmTxP\n",
      "/url?q=http://webcache.googleusercontent.com/search%3Fq%3Dcache:68h0ZNTzRQ8J:https://www.ptt.cc/bbs/HatePolitics/M.1538583348.A.B6A.html%252B%25E9%25AB%2598%25E9%259B%2584%25E9%2581%25B8%25E6%2583%2585%2Bsite:www.ptt.cc%26hl%3Dzh-TW%26ct%3Dclnk&sa=U&ved=0ahUKEwjprazT_5beAhVM6LwKHUnhDM0QIAhJMAk&usg=AOvVaw1cviimThVpOTpHguVi0mDx\n"
     ]
    }
   ],
   "source": [
    "driver = webdriver.Chrome()\n",
    "url = 'https://www.google.com.tw/'\n",
    "driver.get(url)\n",
    "\n",
    "search = driver.find_element_by_id(\"lst-ib\")\n",
    "search.send_keys(u\"高雄選情 site:www.ptt.cc\")\n",
    "search.submit()\n",
    "\n",
    "res = requests.get(driver.current_url)\n",
    "\n",
    "soup = BeautifulSoup(res.text)\n",
    "results = soup.find_all(name='div',attrs={\"class\":\"g\"})\n",
    "\n",
    "for item in results:\n",
    "    for link in item.findAll('a'):\n",
    "        print(link.get('href'))\n"
   ]
  },
  {
   "cell_type": "code",
   "execution_count": 64,
   "metadata": {},
   "outputs": [
    {
     "name": "stdout",
     "output_type": "stream",
     "text": [
      "看板 HatePolitics\n",
      "作者 kero2377 (顆顆)\n",
      "標題 [討論] 高雄選情分析\n",
      "時間 Tue Oct 16 13:51:46 2018\n"
     ]
    },
    {
     "ename": "AttributeError",
     "evalue": "'list' object has no attribute 'decompose'",
     "output_type": "error",
     "traceback": [
      "\u001b[1;31m---------------------------------------------------------------------------\u001b[0m",
      "\u001b[1;31mAttributeError\u001b[0m                            Traceback (most recent call last)",
      "\u001b[1;32m<ipython-input-64-1f0e3ed9e55e>\u001b[0m in \u001b[0;36m<module>\u001b[1;34m()\u001b[0m\n\u001b[0;32m     29\u001b[0m \u001b[1;33m\u001b[0m\u001b[0m\n\u001b[0;32m     30\u001b[0m \u001b[1;33m\u001b[0m\u001b[0m\n\u001b[1;32m---> 31\u001b[1;33m \u001b[0mcontent\u001b[0m \u001b[1;33m=\u001b[0m  \u001b[0mmainContent\u001b[0m\u001b[1;33m.\u001b[0m\u001b[0mselect\u001b[0m\u001b[1;33m(\u001b[0m\u001b[1;34m'span'\u001b[0m\u001b[1;33m)\u001b[0m\u001b[1;33m.\u001b[0m\u001b[0mdecompose\u001b[0m\u001b[1;33m(\u001b[0m\u001b[1;33m)\u001b[0m\u001b[1;33m\u001b[0m\u001b[0m\n\u001b[0m\u001b[0;32m     32\u001b[0m \u001b[1;33m\u001b[0m\u001b[0m\n\u001b[0;32m     33\u001b[0m \u001b[0mprint\u001b[0m\u001b[1;33m(\u001b[0m\u001b[0mcontent\u001b[0m\u001b[1;33m.\u001b[0m\u001b[0mtext\u001b[0m\u001b[1;33m)\u001b[0m\u001b[1;33m\u001b[0m\u001b[0m\n",
      "\u001b[1;31mAttributeError\u001b[0m: 'list' object has no attribute 'decompose'"
     ]
    }
   ],
   "source": [
    "import requests\n",
    "from bs4 import BeautifulSoup\n",
    "\n",
    "res = requests.get('https://www.ptt.cc/bbs/HatePolitics/M.1539669111.A.B2D.html')\n",
    "\n",
    "soup = BeautifulSoup(res.text)\n",
    "\n",
    "mainContent = soup.find(name = 'div',attrs={\"class\":\"bbs-screen bbs-content\"})\n",
    "\n",
    "#print(mainContent)\n",
    "\n",
    "board_meta = mainContent.find(name = 'div',attrs={\"class\":\"article-metaline-right\"})\n",
    "#print(board_meta)\n",
    "\n",
    "board_tag = board_meta.find(name = 'span',attrs={\"class\":\"article-meta-tag\"}).text\n",
    "board_value = board_meta.find(name = 'span',attrs={\"class\":\"article-meta-value\"}).text\n",
    "print(board_tag,board_value)\n",
    "\n",
    "article_meta = mainContent.find_all(name = 'div',attrs={\"class\":\"article-metaline\"})\n",
    "\n",
    "#get meta-data\n",
    "for item in article_meta:\n",
    "    meta_tag = item.find(name = 'span',attrs={\"class\":\"article-meta-tag\"}).text\n",
    "    meta_value =  item.find(name = 'span',attrs={\"class\":\"article-meta-value\"}).text\n",
    "    print(meta_tag,meta_value)\n",
    "    \n",
    "#content = mainContent.text\n",
    "#print(content)\n",
    "\n",
    "\n",
    "\n",
    "content =  mainContent.select('span').decompose()\n",
    "\n",
    "print(content.text)\n",
    "\n",
    "\n",
    "feebackList = mainContent.find_all(name = 'div',attrs={\"class\":\"push\"})\n",
    "\n",
    "for feeback in feebackList:\n",
    "    push_userId= feeback.find(name ='span',attrs={\"class\":\"f3 hl push-userid\"}).text\n",
    "    push_content = feeback.find(name='span',attrs={\"class\":\"f3 push-content\"}).text\n",
    "    push_time = feeback.find(name='span',attrs={\"class\":\"push-ipdatetime\"}).text\n",
    "    print(push_userId,push_content,push_time )\n",
    "    \n",
    "\n",
    "    \n",
    "\n",
    "\n"
   ]
  },
  {
   "cell_type": "code",
   "execution_count": null,
   "metadata": {},
   "outputs": [],
   "source": []
  }
 ],
 "metadata": {
  "kernelspec": {
   "display_name": "Python 3",
   "language": "python",
   "name": "python3"
  },
  "language_info": {
   "codemirror_mode": {
    "name": "ipython",
    "version": 3
   },
   "file_extension": ".py",
   "mimetype": "text/x-python",
   "name": "python",
   "nbconvert_exporter": "python",
   "pygments_lexer": "ipython3",
   "version": "3.5.4"
  }
 },
 "nbformat": 4,
 "nbformat_minor": 2
}
