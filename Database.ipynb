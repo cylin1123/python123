{
 "cells": [
  {
   "cell_type": "markdown",
   "metadata": {},
   "source": [
    "## 資料庫連接 & CRUD\n",
    "\n",
    "*  RDB : MysQL\n",
    "*  NoSQL : MongoDB"
   ]
  },
  {
   "cell_type": "markdown",
   "metadata": {},
   "source": [
    "### 1. MysqL"
   ]
  },
  {
   "cell_type": "markdown",
   "metadata": {},
   "source": [
    "#### 1.0 安裝套件 -- mysqlclient\n",
    "\n",
    "* Python 2+ : pip install mysqlclient\n",
    "* Python 3+ : pip3 install mysqlclient"
   ]
  },
  {
   "cell_type": "markdown",
   "metadata": {},
   "source": [
    "#### 1.1 引用套件"
   ]
  },
  {
   "cell_type": "code",
   "execution_count": 1,
   "metadata": {},
   "outputs": [],
   "source": [
    "import MySQLdb"
   ]
  },
  {
   "cell_type": "markdown",
   "metadata": {},
   "source": [
    "#### 1.2 連接資料庫"
   ]
  },
  {
   "cell_type": "code",
   "execution_count": 2,
   "metadata": {},
   "outputs": [],
   "source": [
    "conn = MySQLdb.Connect(host=\"localhost\",user = \"root\",passwd =\"user\",db=\"Demo\",charset=\"utf8\")"
   ]
  },
  {
   "cell_type": "markdown",
   "metadata": {},
   "source": [
    "#### 1.3 顯示資料表清單"
   ]
  },
  {
   "cell_type": "code",
   "execution_count": 3,
   "metadata": {},
   "outputs": [
    {
     "name": "stdout",
     "output_type": "stream",
     "text": [
      "(('Article',), ('EMPLOYEE',), ('Products',))\n"
     ]
    }
   ],
   "source": [
    "cmd = conn.cursor()\n",
    "cmd.execute(\"Show TABLES\")\n",
    "r = cmd.fetchall()\n",
    "print(r)"
   ]
  },
  {
   "cell_type": "markdown",
   "metadata": {},
   "source": [
    "#### 1.4 創建資料表"
   ]
  },
  {
   "cell_type": "code",
   "execution_count": 20,
   "metadata": {},
   "outputs": [
    {
     "data": {
      "text/plain": [
       "0"
      ]
     },
     "execution_count": 20,
     "metadata": {},
     "output_type": "execute_result"
    }
   ],
   "source": [
    "sql = \"\"\"CREATE TABLE IF NOT EXISTS EMPLOYEE (\n",
    "         ID INTEGER NOT NULL AUTO_INCREMENT,\n",
    "         FIRST_NAME  CHAR(20) NOT NULL,\n",
    "         LAST_NAME  CHAR(20),\n",
    "         AGE INT,\n",
    "         SEX CHAR(1),\n",
    "         INCOME FLOAT,\n",
    "         COUNTRY VARCHAR(30),\n",
    "         PRIMARY KEY (ID))\"\"\"\n",
    "\n",
    "cmd.execute(sql)"
   ]
  },
  {
   "cell_type": "markdown",
   "metadata": {},
   "source": [
    "#### 1.5 新增資料"
   ]
  },
  {
   "cell_type": "code",
   "execution_count": 70,
   "metadata": {},
   "outputs": [
    {
     "name": "stdout",
     "output_type": "stream",
     "text": [
      "Insert Success\n"
     ]
    }
   ],
   "source": [
    "#新增一筆資料\n",
    "\n",
    "sql = \"\"\"INSERT INTO EMPLOYEE(FIRST_NAME,\n",
    "         LAST_NAME, AGE, SEX, INCOME,COUNTRY)\n",
    "         VALUES ('Nick', 'Lin', 35, 'M',80000,\"Taichung\")\"\"\"\n",
    "\n",
    "try:\n",
    "    cmd.execute(sql)\n",
    "    conn.commit()\n",
    "    print(\"Insert Success\")\n",
    "    \n",
    "except:   \n",
    "    conn.rollback()\n",
    "    print(\"Insert Error\")"
   ]
  },
  {
   "cell_type": "code",
   "execution_count": 44,
   "metadata": {},
   "outputs": [
    {
     "name": "stdout",
     "output_type": "stream",
     "text": [
      "3\n"
     ]
    }
   ],
   "source": [
    "#新增多筆資料\n",
    "\n",
    "sql = \"INSERT INTO EMPLOYEE VALUES(%s,%s,%s,%s,%s,%s,%s)\"\n",
    "print(cmd.executemany(sql,[\n",
    "    (0,'David', 'Yang', '45', 'M','55500','Taipei'),\n",
    "    (0,'Mark', 'Hu', '28', 'M','33500','Taipei'),\n",
    "    (0,'Carol', 'Chen', '25', 'F','42500','Taipei'),\n",
    "    ]))\n",
    "conn.commit()"
   ]
  },
  {
   "cell_type": "markdown",
   "metadata": {},
   "source": [
    "#### 1.6 查詢資料"
   ]
  },
  {
   "cell_type": "code",
   "execution_count": 84,
   "metadata": {},
   "outputs": [
    {
     "name": "stdout",
     "output_type": "stream",
     "text": [
      "Error: unable to fecth data\n"
     ]
    }
   ],
   "source": [
    "#一次將所有的查詢結果都取回後，再以迴圈輸出\n",
    "\n",
    "sql = \"SELECT * FROM EMPLOYEE\"\n",
    "\n",
    "try:\n",
    "    cmd.execute(sql)\n",
    "    results = cmd.fetchall()\n",
    "    for row in results:\n",
    "        pid = row[0]\n",
    "        fname = row[1]\n",
    "        lname = row[2]\n",
    "        age = row[3]\n",
    "        sex = row[4]\n",
    "        income = row[5]\n",
    "        country= record[6]\n",
    "        \n",
    "        print(\"fname=%s,lname=%s,age=%d,sex=%s,income=%d, country=%s\" %(fname, lname, age, sex, income,country )) \n",
    "  \n",
    "    \n",
    "except:\n",
    "    print(\"Error: unable to fecth data\")"
   ]
  },
  {
   "cell_type": "code",
   "execution_count": 75,
   "metadata": {},
   "outputs": [
    {
     "name": "stdout",
     "output_type": "stream",
     "text": [
      "4\n",
      "fname=David,lname=Yang,age=45,sex=M,income=55500, country=Taipei\n",
      "fname=Mark,lname=Hu,age=28,sex=M,income=33500, country=Taipei\n",
      "fname=Carol,lname=Chen,age=25,sex=F,income=42500, country=Taipei\n",
      "fname=Nick,lname=Lin,age=32,sex=M,income=80000, country=Taichung\n"
     ]
    }
   ],
   "source": [
    "#一次只取回一筆查詢結果，這種方式在處理大量資料時，可以節省記憶體空間\n",
    "\n",
    "sql = \"SELECT * FROM EMPLOYEE\"\n",
    "cmd.execute(sql)\n",
    "    \n",
    "try:\n",
    "    cmd.execute(sql)\n",
    "    \n",
    "    rowsCount = cmd.rowcount\n",
    "    print(rowsCount)\n",
    "    \n",
    "    for i in range(0,rowsCount):\n",
    "        record = cmd.fetchone()\n",
    "        pid = row[0]\n",
    "        fname = record[1]\n",
    "        lname = record[2]\n",
    "        age = record[3]\n",
    "        sex = record[4]\n",
    "        income = record[5]\n",
    "        country= record[6]\n",
    "\n",
    "        print(\"fname=%s,lname=%s,age=%d,sex=%s,income=%d, country=%s\" %(fname, lname, age, sex, income,country ))\n",
    "        \n",
    "except:\n",
    "    print(\"Error: unable to fecth data\")\n"
   ]
  },
  {
   "cell_type": "markdown",
   "metadata": {},
   "source": [
    "#### 1.7 更新資料"
   ]
  },
  {
   "cell_type": "code",
   "execution_count": 74,
   "metadata": {},
   "outputs": [],
   "source": [
    "sql = \"UPDATE EMPLOYEE SET AGE ='32' WHERE FIRST_NAME ='Nick'\"\n",
    "cmd.execute(sql)\n",
    "conn.commit()"
   ]
  },
  {
   "cell_type": "markdown",
   "metadata": {},
   "source": [
    "#### 1.8 刪除資料"
   ]
  },
  {
   "cell_type": "code",
   "execution_count": 77,
   "metadata": {},
   "outputs": [
    {
     "name": "stdout",
     "output_type": "stream",
     "text": [
      "((1, 'David', 'Yang', 45, 'M', 55500.0, 'Taipei'), (2, 'Mark', 'Hu', 28, 'M', 33500.0, 'Taipei'), (3, 'Carol', 'Chen', 25, 'F', 42500.0, 'Taipei'), (4, 'Nick', 'Lin', 32, 'M', 80000.0, 'Taichung'))\n"
     ]
    }
   ],
   "source": [
    "sql = \"DELETE FROM EMPLOYEE WHERE AGE >= '%d'\" % (50)\n",
    "#print(sql)\n",
    "\n",
    "#sql = \"DELETE FROM EMPLOYEE\"\n",
    "\n",
    "try:\n",
    "    \n",
    "    cmd.execute(sql)\n",
    "    conn.commit()\n",
    "    \n",
    "    sql = \"SELECT * FROM EMPLOYEE\"\n",
    "    cmd.execute(sql)\n",
    "  \n",
    "    print( cmd.fetchall())   \n",
    "    #print( cmd.fetchmany(2))      \n",
    "    #print( cmd.fetchone())\n",
    "    \n",
    "except:\n",
    "    conn.rollback()"
   ]
  },
  {
   "cell_type": "markdown",
   "metadata": {},
   "source": [
    "#### 1.9 呼叫預存程序"
   ]
  },
  {
   "cell_type": "code",
   "execution_count": null,
   "metadata": {},
   "outputs": [],
   "source": [
    "cmd.callproc('show_N_most_expensive_goods')\n"
   ]
  },
  {
   "cell_type": "markdown",
   "metadata": {},
   "source": [
    "#### 1.10 關閉資料庫連接"
   ]
  },
  {
   "cell_type": "code",
   "execution_count": 78,
   "metadata": {},
   "outputs": [],
   "source": [
    "conn.close()"
   ]
  },
  {
   "cell_type": "code",
   "execution_count": 98,
   "metadata": {},
   "outputs": [
    {
     "data": {
      "text/html": [
       "<div>\n",
       "<style scoped>\n",
       "    .dataframe tbody tr th:only-of-type {\n",
       "        vertical-align: middle;\n",
       "    }\n",
       "\n",
       "    .dataframe tbody tr th {\n",
       "        vertical-align: top;\n",
       "    }\n",
       "\n",
       "    .dataframe thead th {\n",
       "        text-align: right;\n",
       "    }\n",
       "</style>\n",
       "<table border=\"1\" class=\"dataframe\">\n",
       "  <thead>\n",
       "    <tr style=\"text-align: right;\">\n",
       "      <th></th>\n",
       "      <th>ID</th>\n",
       "      <th>FIRST_NAME</th>\n",
       "      <th>LAST_NAME</th>\n",
       "      <th>AGE</th>\n",
       "      <th>SEX</th>\n",
       "      <th>INCOME</th>\n",
       "      <th>COUNTRY</th>\n",
       "    </tr>\n",
       "  </thead>\n",
       "  <tbody>\n",
       "    <tr>\n",
       "      <th>0</th>\n",
       "      <td>1</td>\n",
       "      <td>David</td>\n",
       "      <td>Yang</td>\n",
       "      <td>45</td>\n",
       "      <td>M</td>\n",
       "      <td>55500.0</td>\n",
       "      <td>Taipei</td>\n",
       "    </tr>\n",
       "    <tr>\n",
       "      <th>1</th>\n",
       "      <td>2</td>\n",
       "      <td>Mark</td>\n",
       "      <td>Hu</td>\n",
       "      <td>28</td>\n",
       "      <td>M</td>\n",
       "      <td>33500.0</td>\n",
       "      <td>Taipei</td>\n",
       "    </tr>\n",
       "    <tr>\n",
       "      <th>2</th>\n",
       "      <td>3</td>\n",
       "      <td>Carol</td>\n",
       "      <td>Chen</td>\n",
       "      <td>25</td>\n",
       "      <td>F</td>\n",
       "      <td>42500.0</td>\n",
       "      <td>Taipei</td>\n",
       "    </tr>\n",
       "    <tr>\n",
       "      <th>3</th>\n",
       "      <td>4</td>\n",
       "      <td>Nick</td>\n",
       "      <td>Lin</td>\n",
       "      <td>32</td>\n",
       "      <td>M</td>\n",
       "      <td>80000.0</td>\n",
       "      <td>Taichung</td>\n",
       "    </tr>\n",
       "  </tbody>\n",
       "</table>\n",
       "</div>"
      ],
      "text/plain": [
       "   ID FIRST_NAME LAST_NAME  AGE SEX   INCOME   COUNTRY\n",
       "0   1      David      Yang   45   M  55500.0    Taipei\n",
       "1   2       Mark        Hu   28   M  33500.0    Taipei\n",
       "2   3      Carol      Chen   25   F  42500.0    Taipei\n",
       "3   4       Nick       Lin   32   M  80000.0  Taichung"
      ]
     },
     "execution_count": 98,
     "metadata": {},
     "output_type": "execute_result"
    }
   ],
   "source": [
    "import MySQLdb\n",
    "conn = MySQLdb.Connect(host=\"localhost\",user = \"root\",passwd =\"user\",db=\"Demo\",charset=\"utf8\")\n",
    "sql = \"SELECT * FROM EMPLOYEE\"\n",
    "df = pd.read_sql_query(sql,con=conn)\n",
    "df\n"
   ]
  },
  {
   "cell_type": "code",
   "execution_count": 102,
   "metadata": {},
   "outputs": [
    {
     "data": {
      "text/plain": [
       "42500.0"
      ]
     },
     "execution_count": 102,
     "metadata": {},
     "output_type": "execute_result"
    }
   ],
   "source": [
    "df.loc[2]['INCOME']"
   ]
  },
  {
   "cell_type": "markdown",
   "metadata": {},
   "source": [
    "### 2. MongoDB\n",
    "\n",
    "\n",
    "* Start MongoDB service :  sudo service mongod start"
   ]
  },
  {
   "cell_type": "markdown",
   "metadata": {},
   "source": [
    "#### 2.0 安裝套件 -- pymongo\n",
    "* Python 2+ : pip install pymongo\n",
    "* Python 3+ : pip3 install pymongo"
   ]
  },
  {
   "cell_type": "markdown",
   "metadata": {},
   "source": [
    "#### 2.1 引用套件"
   ]
  },
  {
   "cell_type": "code",
   "execution_count": 79,
   "metadata": {},
   "outputs": [],
   "source": [
    "import pymongo"
   ]
  },
  {
   "cell_type": "markdown",
   "metadata": {},
   "source": [
    "#### 2.2 連接資料庫"
   ]
  },
  {
   "cell_type": "code",
   "execution_count": 80,
   "metadata": {},
   "outputs": [],
   "source": [
    "myclient = pymongo.MongoClient(\"mongodb://localhost:27017/\")\n",
    " mydb = myclient[\"MyTestDB\"]"
   ]
  },
  {
   "cell_type": "code",
   "execution_count": 83,
   "metadata": {},
   "outputs": [
    {
     "name": "stdout",
     "output_type": "stream",
     "text": [
      "DB 已存在！\n"
     ]
    }
   ],
   "source": [
    "dblist = myclient.list_database_names()\n",
    "if \"MyTestDB\" in dblist:\n",
    "    print(\"DB 已存在！\")\n",
    "else:\n",
    "    print(\"DB 不存在！\")\n",
    "   "
   ]
  },
  {
   "cell_type": "markdown",
   "metadata": {},
   "source": [
    "#### 2.4 插入資料"
   ]
  },
  {
   "cell_type": "code",
   "execution_count": 82,
   "metadata": {},
   "outputs": [
    {
     "name": "stdout",
     "output_type": "stream",
     "text": [
      "5bc840bc5f627d0d01114801\n"
     ]
    }
   ],
   "source": [
    "mycol = mydb[\"sites\"]\n",
    "\n",
    "# 插入一筆資料\n",
    "\n",
    "mydict = { \"name\": \"Google\", \"alexa\": \"1\", \"url\": \"https://www.google.com\" } \n",
    "x = mycol.insert_one(mydict) \n",
    "print(x.inserted_id) \n"
   ]
  },
  {
   "cell_type": "code",
   "execution_count": 23,
   "metadata": {},
   "outputs": [
    {
     "name": "stdout",
     "output_type": "stream",
     "text": [
      "[ObjectId('5bc814d25f627d09980d0ba6'), ObjectId('5bc814d25f627d09980d0ba7'), ObjectId('5bc814d25f627d09980d0ba8'), ObjectId('5bc814d25f627d09980d0ba9'), ObjectId('5bc814d25f627d09980d0baa')]\n"
     ]
    }
   ],
   "source": [
    "# 插入多筆資料\n",
    "\n",
    "mylist = [\n",
    "  { \"name\": \"Taobao\", \"alexa\": \"100\", \"url\": \"https://www.taobao.com\" },\n",
    "  { \"name\": \"QQ\", \"alexa\": \"101\", \"url\": \"https://www.qq.com\" },\n",
    "  { \"name\": \"Facebook\", \"alexa\": \"10\", \"url\": \"https://www.facebook.com\" },\n",
    "  { \"name\": \"知乎\", \"alexa\": \"103\", \"url\": \"https://www.zhihu.com\" },\n",
    "  { \"name\": \"Github\", \"alexa\": \"109\", \"url\": \"https://www.github.com\" }\n",
    "]\n",
    " \n",
    "x = mycol.insert_many(mylist)\n",
    "\n",
    "print(x.inserted_ids)"
   ]
  },
  {
   "cell_type": "code",
   "execution_count": 24,
   "metadata": {},
   "outputs": [
    {
     "name": "stdout",
     "output_type": "stream",
     "text": [
      "[11, 12, 13, 14, 15]\n"
     ]
    }
   ],
   "source": [
    "# 插入多筆資料並指定id\n",
    "mylist = [\n",
    "  { \"_id\": 11, \"name\": \"RUNOOB\", \"cn_name\": \"菜鸟教程\"},\n",
    "  { \"_id\": 12, \"name\": \"Google\", \"address\": \"Google 搜索\"},\n",
    "  { \"_id\": 13, \"name\": \"Facebook\", \"address\": \"脸书\"},\n",
    "  { \"_id\": 14, \"name\": \"Taobao\", \"address\": \"淘宝\"},\n",
    "  { \"_id\": 15, \"name\": \"Zhihu\", \"address\": \"知乎\"}\n",
    "]\n",
    " \n",
    "x = mycol.insert_many(mylist)\n",
    "print(x.inserted_ids)"
   ]
  },
  {
   "cell_type": "markdown",
   "metadata": {},
   "source": [
    "#### 2.5 查詢資料"
   ]
  },
  {
   "cell_type": "code",
   "execution_count": 25,
   "metadata": {},
   "outputs": [
    {
     "name": "stdout",
     "output_type": "stream",
     "text": [
      "{'_id': ObjectId('5bc814c05f627d09980d0ba5'), 'alexa': '1', 'url': 'https://www.google.com', 'name': 'Google'}\n"
     ]
    }
   ],
   "source": [
    "# 回傳一筆資料\n",
    "x = mycol.find_one() \n",
    "print(x)"
   ]
  },
  {
   "cell_type": "code",
   "execution_count": 26,
   "metadata": {},
   "outputs": [
    {
     "name": "stdout",
     "output_type": "stream",
     "text": [
      "{'_id': ObjectId('5bc814c05f627d09980d0ba5'), 'alexa': '1', 'url': 'https://www.google.com', 'name': 'Google'}\n",
      "{'_id': ObjectId('5bc814d25f627d09980d0ba6'), 'alexa': '100', 'url': 'https://www.taobao.com', 'name': 'Taobao'}\n",
      "{'_id': ObjectId('5bc814d25f627d09980d0ba7'), 'alexa': '101', 'url': 'https://www.qq.com', 'name': 'QQ'}\n",
      "{'_id': ObjectId('5bc814d25f627d09980d0ba8'), 'alexa': '10', 'url': 'https://www.facebook.com', 'name': 'Facebook'}\n",
      "{'_id': ObjectId('5bc814d25f627d09980d0ba9'), 'alexa': '103', 'url': 'https://www.zhihu.com', 'name': '知乎'}\n",
      "{'_id': ObjectId('5bc814d25f627d09980d0baa'), 'alexa': '109', 'url': 'https://www.github.com', 'name': 'Github'}\n",
      "{'cn_name': '菜鸟教程', '_id': 11, 'name': 'RUNOOB'}\n",
      "{'_id': 12, 'address': 'Google 搜索', 'name': 'Google'}\n",
      "{'_id': 13, 'address': '脸书', 'name': 'Facebook'}\n",
      "{'_id': 14, 'address': '淘宝', 'name': 'Taobao'}\n",
      "{'_id': 15, 'address': '知乎', 'name': 'Zhihu'}\n"
     ]
    }
   ],
   "source": [
    "# 回傳多筆資料\n",
    "data = mycol.find()\n",
    "for x in data :\n",
    "    print(x)"
   ]
  },
  {
   "cell_type": "code",
   "execution_count": 27,
   "metadata": {},
   "outputs": [
    {
     "name": "stdout",
     "output_type": "stream",
     "text": [
      "{'alexa': '1', 'name': 'Google'}\n",
      "{'alexa': '100', 'name': 'Taobao'}\n",
      "{'alexa': '101', 'name': 'QQ'}\n",
      "{'alexa': '10', 'name': 'Facebook'}\n",
      "{'alexa': '103', 'name': '知乎'}\n",
      "{'alexa': '109', 'name': 'Github'}\n",
      "{'name': 'RUNOOB'}\n",
      "{'name': 'Google'}\n",
      "{'name': 'Facebook'}\n",
      "{'name': 'Taobao'}\n",
      "{'name': 'Zhihu'}\n"
     ]
    }
   ],
   "source": [
    "# Select 呈現特定欄位\n",
    "for x in mycol.find({},{ \"_id\": 0, \"name\": 1, \"alexa\": 1 }):\n",
    "    print(x)"
   ]
  },
  {
   "cell_type": "code",
   "execution_count": 28,
   "metadata": {},
   "outputs": [
    {
     "name": "stdout",
     "output_type": "stream",
     "text": [
      "<pymongo.cursor.Cursor object at 0x7f82acee84e0>\n",
      "{'cn_name': '菜鸟教程', '_id': 11, 'name': 'RUNOOB'}\n"
     ]
    }
   ],
   "source": [
    "# 條件查詢\n",
    "myquery = { \"name\": \"RUNOOB\" } \n",
    "mydoc = mycol.find(myquery) \n",
    "\n",
    "print (mydoc)\n",
    "\n",
    "for x in mydoc:\n",
    "     print(x)"
   ]
  },
  {
   "cell_type": "code",
   "execution_count": 29,
   "metadata": {},
   "outputs": [
    {
     "name": "stdout",
     "output_type": "stream",
     "text": [
      "{'cn_name': '菜鸟教程', '_id': 11, 'name': 'RUNOOB'}\n"
     ]
    }
   ],
   "source": [
    "# 條件查詢 , 使用正規表達式\n",
    "myquery = { \"name\": { \"$regex\": \"^R\" } }\n",
    " \n",
    "mydoc = mycol.find(myquery)\n",
    " \n",
    "for x in mydoc:\n",
    "    print(x)"
   ]
  },
  {
   "cell_type": "code",
   "execution_count": 30,
   "metadata": {},
   "outputs": [
    {
     "name": "stdout",
     "output_type": "stream",
     "text": [
      "{'_id': ObjectId('5bc814c05f627d09980d0ba5'), 'alexa': '1', 'url': 'https://www.google.com', 'name': 'Google'}\n",
      "{'_id': ObjectId('5bc814d25f627d09980d0ba6'), 'alexa': '100', 'url': 'https://www.taobao.com', 'name': 'Taobao'}\n",
      "{'_id': ObjectId('5bc814d25f627d09980d0ba7'), 'alexa': '101', 'url': 'https://www.qq.com', 'name': 'QQ'}\n"
     ]
    }
   ],
   "source": [
    "#顯示前三筆資料\n",
    "myresult = mycol.find().limit(3)\n",
    " \n",
    "# 输出结果\n",
    "for x in myresult:\n",
    "    print(x)"
   ]
  },
  {
   "cell_type": "code",
   "execution_count": 31,
   "metadata": {},
   "outputs": [
    {
     "name": "stdout",
     "output_type": "stream",
     "text": [
      "{'cn_name': '菜鸟教程', '_id': 11, 'name': 'RUNOOB'}\n",
      "{'_id': 12, 'address': 'Google 搜索', 'name': 'Google'}\n",
      "{'_id': 13, 'address': '脸书', 'name': 'Facebook'}\n",
      "{'_id': 14, 'address': '淘宝', 'name': 'Taobao'}\n",
      "{'_id': 15, 'address': '知乎', 'name': 'Zhihu'}\n",
      "{'_id': ObjectId('5bc814c05f627d09980d0ba5'), 'alexa': '1', 'url': 'https://www.google.com', 'name': 'Google'}\n",
      "{'_id': ObjectId('5bc814d25f627d09980d0ba8'), 'alexa': '10', 'url': 'https://www.facebook.com', 'name': 'Facebook'}\n",
      "{'_id': ObjectId('5bc814d25f627d09980d0ba6'), 'alexa': '100', 'url': 'https://www.taobao.com', 'name': 'Taobao'}\n",
      "{'_id': ObjectId('5bc814d25f627d09980d0ba7'), 'alexa': '101', 'url': 'https://www.qq.com', 'name': 'QQ'}\n",
      "{'_id': ObjectId('5bc814d25f627d09980d0ba9'), 'alexa': '103', 'url': 'https://www.zhihu.com', 'name': '知乎'}\n",
      "{'_id': ObjectId('5bc814d25f627d09980d0baa'), 'alexa': '109', 'url': 'https://www.github.com', 'name': 'Github'}\n"
     ]
    }
   ],
   "source": [
    "#依特定欄位排序資料\n",
    "\n",
    "mydoc = mycol.find().sort(\"alexa\")\n",
    "\n",
    "# mydoc = mycol.find().sort(\"alexa\", -1)\n",
    "\n",
    "for x in mydoc:\n",
    "    print(x)"
   ]
  },
  {
   "cell_type": "markdown",
   "metadata": {},
   "source": [
    "#### 2.6 更新資料"
   ]
  },
  {
   "cell_type": "code",
   "execution_count": 32,
   "metadata": {},
   "outputs": [
    {
     "name": "stdout",
     "output_type": "stream",
     "text": [
      "{'_id': ObjectId('5bc814c05f627d09980d0ba5'), 'alexa': '1', 'url': 'https://www.google.com', 'name': 'Google'}\n",
      "{'_id': ObjectId('5bc814d25f627d09980d0ba6'), 'alexa': '100', 'url': 'https://www.taobao.com', 'name': 'Taobao'}\n",
      "{'_id': ObjectId('5bc814d25f627d09980d0ba7'), 'alexa': '101', 'url': 'https://www.qq.com', 'name': 'QQ'}\n",
      "{'_id': ObjectId('5bc814d25f627d09980d0ba8'), 'alexa': '10', 'url': 'https://www.facebook.com', 'name': 'Facebook'}\n",
      "{'_id': ObjectId('5bc814d25f627d09980d0ba9'), 'alexa': '103', 'url': 'https://www.zhihu.com', 'name': '知乎'}\n",
      "{'_id': ObjectId('5bc814d25f627d09980d0baa'), 'alexa': '109', 'url': 'https://www.github.com', 'name': 'Github'}\n",
      "{'cn_name': '菜鸟教程', '_id': 11, 'name': 'RUNOOB'}\n",
      "{'_id': 12, 'address': 'Google 搜索', 'name': 'Google'}\n",
      "{'_id': 13, 'address': '脸书', 'name': 'Facebook'}\n",
      "{'_id': 14, 'address': '淘宝', 'name': 'Taobao'}\n",
      "{'_id': 15, 'address': '知乎', 'name': 'Zhihu'}\n"
     ]
    }
   ],
   "source": [
    "#依特定條件,更新資料\n",
    "myquery = { \"alexa\": \"10000\" }\n",
    "newvalues = { \"$set\": { \"alexa\": \"12345\" } }\n",
    "\n",
    "mycol.update_one(myquery, newvalues)\n",
    "\n",
    "for x in mycol.find():\n",
    "    print(x)"
   ]
  },
  {
   "cell_type": "code",
   "execution_count": 33,
   "metadata": {},
   "outputs": [
    {
     "name": "stdout",
     "output_type": "stream",
     "text": [
      "2 文件已經修改\n"
     ]
    }
   ],
   "source": [
    "#依正規表達式條件,更新資料\n",
    "myquery = { \"name\": { \"$regex\": \"^F\" } }\n",
    "newvalues = { \"$set\": { \"alexa\": \"123\" } }\n",
    " \n",
    "x = mycol.update_many(myquery, newvalues)\n",
    " \n",
    "print(x.modified_count, \"文件已經修改\")"
   ]
  },
  {
   "cell_type": "markdown",
   "metadata": {},
   "source": [
    "#### 2.7 刪除資料"
   ]
  },
  {
   "cell_type": "code",
   "execution_count": 34,
   "metadata": {},
   "outputs": [
    {
     "name": "stdout",
     "output_type": "stream",
     "text": [
      "{'_id': ObjectId('5bc814c05f627d09980d0ba5'), 'alexa': '1', 'url': 'https://www.google.com', 'name': 'Google'}\n",
      "{'_id': ObjectId('5bc814d25f627d09980d0ba7'), 'alexa': '101', 'url': 'https://www.qq.com', 'name': 'QQ'}\n",
      "{'_id': ObjectId('5bc814d25f627d09980d0ba8'), 'alexa': '123', 'url': 'https://www.facebook.com', 'name': 'Facebook'}\n",
      "{'_id': ObjectId('5bc814d25f627d09980d0ba9'), 'alexa': '103', 'url': 'https://www.zhihu.com', 'name': '知乎'}\n",
      "{'_id': ObjectId('5bc814d25f627d09980d0baa'), 'alexa': '109', 'url': 'https://www.github.com', 'name': 'Github'}\n",
      "{'cn_name': '菜鸟教程', '_id': 11, 'name': 'RUNOOB'}\n",
      "{'_id': 12, 'address': 'Google 搜索', 'name': 'Google'}\n",
      "{'alexa': '123', '_id': 13, 'address': '脸书', 'name': 'Facebook'}\n",
      "{'_id': 14, 'address': '淘宝', 'name': 'Taobao'}\n",
      "{'_id': 15, 'address': '知乎', 'name': 'Zhihu'}\n"
     ]
    }
   ],
   "source": [
    "# 依特定條件,刪除一筆資料\n",
    "myquery = { \"name\": \"Taobao\" }\n",
    " \n",
    "mycol.delete_one(myquery)\n",
    "\n",
    "for x in mycol.find():\n",
    "    print(x)"
   ]
  },
  {
   "cell_type": "code",
   "execution_count": 35,
   "metadata": {},
   "outputs": [
    {
     "name": "stdout",
     "output_type": "stream",
     "text": [
      "2 個文件已刪除\n"
     ]
    }
   ],
   "source": [
    "# 依正規表達示條件,刪除多筆資料\n",
    "\n",
    "myquery = { \"name\": {\"$regex\": \"^F\"} }\n",
    " \n",
    "x = mycol.delete_many(myquery)\n",
    " \n",
    "print(x.deleted_count, \"個文件已刪除\")"
   ]
  },
  {
   "cell_type": "markdown",
   "metadata": {},
   "source": [
    "#### 2.8 刪除 Collections"
   ]
  },
  {
   "cell_type": "code",
   "execution_count": 36,
   "metadata": {},
   "outputs": [],
   "source": [
    "mycol.drop()"
   ]
  },
  {
   "cell_type": "code",
   "execution_count": null,
   "metadata": {},
   "outputs": [],
   "source": []
  }
 ],
 "metadata": {
  "kernelspec": {
   "display_name": "Python 3",
   "language": "python",
   "name": "python3"
  },
  "language_info": {
   "codemirror_mode": {
    "name": "ipython",
    "version": 3
   },
   "file_extension": ".py",
   "mimetype": "text/x-python",
   "name": "python",
   "nbconvert_exporter": "python",
   "pygments_lexer": "ipython3",
   "version": "3.5.2"
  }
 },
 "nbformat": 4,
 "nbformat_minor": 2
}
