{
 "cells": [
  {
   "cell_type": "markdown",
   "metadata": {},
   "source": [
    "## Python3 基礎語法"
   ]
  },
  {
   "cell_type": "markdown",
   "metadata": {},
   "source": [
    "### 1.基本概念"
   ]
  },
  {
   "cell_type": "markdown",
   "metadata": {},
   "source": [
    "#### 1.1 編碼\n",
    "<B>說明</B> : \n",
    "1. python 原始碼文件預設編碼 : UTF-8 \n",
    "2. 字符串都是 unicode 字符串"
   ]
  },
  {
   "cell_type": "code",
   "execution_count": 120,
   "metadata": {},
   "outputs": [],
   "source": [
    "#指定不同編碼\n",
    "# -*- coding: cp-1252 -*-"
   ]
  },
  {
   "cell_type": "markdown",
   "metadata": {},
   "source": [
    "#### 1.2 註解\n",
    "<B>說明</B> :  \n",
    "1. 單行註解以 # 開頭\n",
    "2. 多行註解以''' 或 \"\"\" 開頭及結尾"
   ]
  },
  {
   "cell_type": "code",
   "execution_count": 56,
   "metadata": {},
   "outputs": [
    {
     "name": "stdout",
     "output_type": "stream",
     "text": [
      "Hello world\n"
     ]
    },
    {
     "data": {
      "text/plain": [
       "'\\na=a+b\\n我是註解 1\\n我是註解 2\\n#print(\"Hellow Nick\")\\n'"
      ]
     },
     "execution_count": 56,
     "metadata": {},
     "output_type": "execute_result"
    }
   ],
   "source": [
    "#我是註解 \n",
    "print(\"Hello world\")\n",
    "\n",
    "a = 1\n",
    "b = 2\n",
    "\n",
    "'''\n",
    "print(a+b)\n",
    "'''\n",
    "\"\"\"\n",
    "a=a+b\n",
    "我是註解 1\n",
    "我是註解 2\n",
    "#print(\"Hellow Nick\")\n",
    "\"\"\""
   ]
  },
  {
   "cell_type": "markdown",
   "metadata": {},
   "source": [
    "#### 1.3. 行與縮排\n",
    "<B>說明</B> :  \n",
    "1. 以\"縮排\"取代\"{}\", 作為代碼區域\n",
    "2. 代碼區域內縮排不一致 => 將導致運行錯誤"
   ]
  },
  {
   "cell_type": "code",
   "execution_count": 16,
   "metadata": {},
   "outputs": [
    {
     "name": "stdout",
     "output_type": "stream",
     "text": [
      "True\n",
      "Apple\n"
     ]
    }
   ],
   "source": [
    "if True:\n",
    "    print (\"True\")\n",
    "    print (\"Apple\")\n",
    "else:\n",
    "    print (\"False\")\n",
    "    print (\"Cat\")"
   ]
  },
  {
   "cell_type": "markdown",
   "metadata": {},
   "source": [
    "#### 1.4. 變數命名規則\n",
    "<B>說明</B> :\n",
    "1. 保留字不得做為變數名稱\n",
    "2. 變數起始字母需為\"英文字母\" 或 \"_\"\n",
    "3. 變數大小寫視為不同變數"
   ]
  },
  {
   "cell_type": "code",
   "execution_count": 57,
   "metadata": {},
   "outputs": [
    {
     "name": "stdout",
     "output_type": "stream",
     "text": [
      "['False', 'None', 'True', 'and', 'as', 'assert', 'break', 'class', 'continue', 'def', 'del', 'elif', 'else', 'except', 'finally', 'for', 'from', 'global', 'if', 'import', 'in', 'is', 'lambda', 'nonlocal', 'not', 'or', 'pass', 'raise', 'return', 'try', 'while', 'with', 'yield']\n"
     ]
    }
   ],
   "source": [
    "# 保留字\n",
    "import keyword\n",
    "print(keyword.kwlist)"
   ]
  },
  {
   "cell_type": "code",
   "execution_count": null,
   "metadata": {},
   "outputs": [],
   "source": []
  },
  {
   "cell_type": "markdown",
   "metadata": {},
   "source": [
    "### 2. 變數類型\n",
    "<B>說明</B> :\n",
    "1. 數字 (Number)  :  int、float、bool、complex(複數)\n",
    "2. 字串 (String)\n",
    "3. 列表 (List)\n",
    "4. 元組 (Tuple)\n",
    "5. 字典 (Dictionary)\n",
    "6. 集合 (Set) "
   ]
  },
  {
   "cell_type": "markdown",
   "metadata": {},
   "source": [
    "#### 2.1 數字 (Number)"
   ]
  },
  {
   "cell_type": "code",
   "execution_count": 137,
   "metadata": {},
   "outputs": [
    {
     "name": "stdout",
     "output_type": "stream",
     "text": [
      "10\n",
      "2.5\n",
      "1.5 0.5\n",
      "<class 'int'> <class 'float'> <class 'complex'>\n"
     ]
    }
   ],
   "source": [
    "a = 10\n",
    "b = 2.5\n",
    "c = 1.5+0.5j\n",
    "print (a)\n",
    "print (b)\n",
    "print (c.real,c.imag) # var.real 複數中的實數, var.imag 複數中的虛數 \n",
    "print (type(a),type(b),type(c))"
   ]
  },
  {
   "cell_type": "code",
   "execution_count": 98,
   "metadata": {},
   "outputs": [
    {
     "name": "stdout",
     "output_type": "stream",
     "text": [
      "133\n",
      "113\n",
      "1230\n",
      "12.3 <class 'float'>\n",
      "12 <class 'int'>\n",
      "3 <class 'int'>\n",
      "792594609605189126649\n"
     ]
    }
   ],
   "source": [
    "a = 123\n",
    "b = 10\n",
    "print (a+b)  # 加法\n",
    "print (a-b)  # 減法\n",
    "print (a*b)  # 乘法\n",
    "print (a/b , type(a/b))  # 除法\n",
    "print (a//b , type(a//b)) # 取整數\n",
    "print (a%b , type(a%b)) # 取餘數\n",
    "print (a**b) # 乘方"
   ]
  },
  {
   "cell_type": "markdown",
   "metadata": {},
   "source": [
    "#### 2.2 字串 (String)\n",
    "\n",
    "#### 2.2.1 常用操作 \n",
    "<B>說明</B> :\n",
    "1. 字串連接 (+)  : Example -- strA + strB\n",
    "2. 重覆字串 (*)  : Example -- strA *2\n",
    "3. 取得字串中第i個字符 ( [i] ) : Example -- strA[2]\n",
    "4. 取得字串中某一段字符 ( [:] ) : Example -- strA[0:5] \n",
    "5. 判斷某字符或字串是否在字串中 (in) : \n",
    "6. 判斷某字符或字串是否不在字串中 (not in) : "
   ]
  },
  {
   "cell_type": "code",
   "execution_count": 134,
   "metadata": {},
   "outputs": [
    {
     "name": "stdout",
     "output_type": "stream",
     "text": [
      "Hello World!I'm Ncik\n",
      "Hello World!Hello World!\n",
      "Hello\n",
      "Hello,I'm Ncik\n",
      "True\n",
      "False\n",
      "我的名字是Nick , 身高 170 cm.\n"
     ]
    }
   ],
   "source": [
    "strA = 'Hello World!'\n",
    "strB = 'I\\'m Ncik' # I'm Nick\n",
    "print(strA + strB)\n",
    "print(strA * 2)\n",
    "print(strA[0:5])\n",
    "print(strA[0:5] + \",\" + strB)\n",
    "\n",
    "print (\"Hello\" in strA)\n",
    "print (\"W\" not in strA)\n",
    "\n",
    "print (\"我的名字是%s , 身高 %d cm.\" % ('Nick', 170))"
   ]
  },
  {
   "cell_type": "markdown",
   "metadata": {},
   "source": [
    "#### 2.2.2 常用內建函數 \n",
    "<B>說明</B> :\n",
    "1. capitalize() : 將字串中第一個字母轉為大寫\n",
    "2. count()  : 回傳某字元或字串在原字串中的次數\n",
    "3. len() : 回傳字串長度\n",
    "4. max() : 回傳字串中最大的字元\n",
    "5. min() : 回傳字串中最小的字元\n",
    "6. replace() : 字串取代\n",
    "7. center() : 回傳一個以原字串置中的字串\n",
    "8. isalnum() : 判斷字串是否以英文字母或數字組成 , 回傳Ture / False\n",
    "9. isdigit() : 判斷字串組成是否為數字"
   ]
  },
  {
   "cell_type": "code",
   "execution_count": 183,
   "metadata": {},
   "outputs": [
    {
     "name": "stdout",
     "output_type": "stream",
     "text": [
      "Hello\n",
      "1\n",
      "0\n",
      "5\n",
      "o\n",
      "e\n",
      "heaao\n",
      "healo\n",
      "--hello---\n",
      "False\n",
      "True\n"
     ]
    }
   ],
   "source": [
    "strA = \"hello\"\n",
    "\n",
    "print(strA.capitalize()) \n",
    "print(strA.count('e'))\n",
    "print(strA.count('e',2,))\n",
    "print(len(strA))\n",
    "print(max(strA))\n",
    "print(min(strA))\n",
    "print(strA.replace(\"l\",\"a\"))\n",
    "print(strA.replace(\"l\",\"a\",1))\n",
    "print(strA.center(10,'-'))\n",
    "\n",
    "strA = \"hello!\"\n",
    "print(strA.isalnum())\n",
    "\n",
    "strA=\"1231231\"\n",
    "print(strA.isdigit())\n"
   ]
  },
  {
   "cell_type": "code",
   "execution_count": null,
   "metadata": {},
   "outputs": [],
   "source": []
  },
  {
   "cell_type": "markdown",
   "metadata": {},
   "source": [
    "#### 2.3 列表 (List)\n",
    "\n",
    "list = [] "
   ]
  },
  {
   "cell_type": "code",
   "execution_count": 192,
   "metadata": {},
   "outputs": [
    {
     "name": "stdout",
     "output_type": "stream",
     "text": [
      "[1, 2, 3, 4, 5, 6] <class 'list'>\n",
      "['Apple', 'Bee', 'Cat', 'Dog'] <class 'list'>\n",
      "['Apple', 123, 'Bee', 456] <class 'list'>\n"
     ]
    }
   ],
   "source": [
    "listA = [1,2,3,4,5,6]\n",
    "listB = [\"Apple\",\"Bee\",\"Cat\",\"Dog\"]\n",
    "listC = [\"Apple\",123,\"Bee\",456]\n",
    "print(listA , type(listA))\n",
    "print(listB , type(listB))\n",
    "print(listC , type(listC))"
   ]
  },
  {
   "cell_type": "markdown",
   "metadata": {},
   "source": [
    "#### 2.3.1 常用操作 \n",
    "<B>說明</B> : \n",
    "1. var[index] : 回傳list中特定位置元素\n",
    "2. var[start:end]： 回傳list中特定範圍的元素\n"
   ]
  },
  {
   "cell_type": "code",
   "execution_count": 206,
   "metadata": {},
   "outputs": [
    {
     "name": "stdout",
     "output_type": "stream",
     "text": [
      "4\n",
      "Apple\n",
      "456\n",
      "['Apple', 123, 'Bee']\n"
     ]
    }
   ],
   "source": [
    "print(listA[0])\n",
    "print(listA[-1])\n",
    "print(listA[0:3])"
   ]
  },
  {
   "cell_type": "code",
   "execution_count": null,
   "metadata": {},
   "outputs": [],
   "source": []
  },
  {
   "cell_type": "markdown",
   "metadata": {},
   "source": [
    "#### 2.3.2 常用內建函數 \n",
    "<B>說明</B> :\n",
    "1. len() : 回傳List元素個數\n",
    "2. max() : 回傳List中最大的元素\n",
    "3. min() : 回傳List中最小的元素\n",
    "4. list() : 將　tuple, string 轉化為List\n",
    "5. append() : 新增list 元素\n",
    "6. insert(index,obj) : 新增某元素至list中特定位置\n",
    "7. remove : 移除list 中特定元素\n",
    "8. pop() : 移除list中最後一個元素\n",
    "9. sorrt() : 將list進行排序"
   ]
  },
  {
   "cell_type": "code",
   "execution_count": 242,
   "metadata": {},
   "outputs": [
    {
     "name": "stdout",
     "output_type": "stream",
     "text": [
      "4\n",
      "Dog\n",
      "Apple\n",
      "['H', 'e', 'l', 'l', 'o']\n",
      "['Apple', 'Bee', 'Cat', 'Dog', 'Elephant']\n",
      "['Apple', 'Air', 'Bee', 'Cat', 'Dog', 'Elephant']\n",
      "['Apple', 'Air', 'Bee', 'Cat', 'Dog']\n",
      "['Apple', 'Air', 'Bee', 'Cat']\n",
      "['Cat', 'Bee', 'Air', 'Apple']\n",
      "['Air', 'Apple', 'Bee', 'Cat']\n",
      "[4, 7, 10, 15, 20]\n"
     ]
    }
   ],
   "source": [
    "listA = [\"Apple\",123,\"Bee\",456]\n",
    "print(len(listA))\n",
    "\n",
    "listB =[\"Apple\",\"Bee\",\"Cat\",\"Dog\"]\n",
    "print(max(listB)) #　List中的元素需為相同型態\n",
    "print(min(listB)) #　List中的元素需為相同型態\n",
    "\n",
    "strC =\"Hello\"\n",
    "print(list(strC))\n",
    "\n",
    "listB.append(\"Elephant\")\n",
    "print(listB)\n",
    "\n",
    "listB.insert(1,\"Air\")\n",
    "print(listB)\n",
    "\n",
    "listB.remove(\"Elephant\")\n",
    "print(listB)\n",
    "\n",
    "listB.pop()\n",
    "print(listB)\n",
    "\n",
    "listB.reverse()\n",
    "print(listB)\n",
    "\n",
    "listB.sort()\n",
    "print(listB)\n",
    "\n",
    "listB = [10,4,7,20,15]\n",
    "listB.sort()\n",
    "print(listB)\n"
   ]
  },
  {
   "cell_type": "markdown",
   "metadata": {},
   "source": [
    "#### 2.4 字典 (Dictionary)\n",
    "\n",
    "dict = {key1 : value1, key2 : value2 }\n"
   ]
  },
  {
   "cell_type": "code",
   "execution_count": 247,
   "metadata": {},
   "outputs": [
    {
     "name": "stdout",
     "output_type": "stream",
     "text": [
      "dict['Name']:  Runoob\n",
      "dict['Age']:  7\n"
     ]
    }
   ],
   "source": [
    "dict = {'Name': 'Runoob', 'Age': 7, 'Class': 'First'}\n",
    " \n",
    "print (\"dict['Name']: \", dict['Name'])\n",
    "print (\"dict['Age']: \", dict['Age'])"
   ]
  },
  {
   "cell_type": "markdown",
   "metadata": {},
   "source": [
    "#### 2.4.1 常用操作 \n",
    "<B>說明</B> : \n",
    "1. var[index] : 回傳list中特定位置元素\n",
    "2. var[start:end]： 回傳list中特定範圍的元素\n"
   ]
  },
  {
   "cell_type": "code",
   "execution_count": 245,
   "metadata": {},
   "outputs": [
    {
     "name": "stdout",
     "output_type": "stream",
     "text": [
      "dict['Name']:  Runoob\n",
      "dict['Age']:  7\n"
     ]
    }
   ],
   "source": [
    "dict = {'Name': 'Runoob', 'Age': 7, 'Class': 'First'}\n",
    " \n",
    "print (\"dict['Name']: \", dict['Name'])\n",
    "print (\"dict['Age']: \", dict['Age'])"
   ]
  },
  {
   "cell_type": "code",
   "execution_count": null,
   "metadata": {},
   "outputs": [],
   "source": []
  }
 ],
 "metadata": {
  "kernelspec": {
   "display_name": "Python 3",
   "language": "python",
   "name": "python3"
  },
  "language_info": {
   "codemirror_mode": {
    "name": "ipython",
    "version": 3
   },
   "file_extension": ".py",
   "mimetype": "text/x-python",
   "name": "python",
   "nbconvert_exporter": "python",
   "pygments_lexer": "ipython3",
   "version": "3.5.4"
  }
 },
 "nbformat": 4,
 "nbformat_minor": 2
}
