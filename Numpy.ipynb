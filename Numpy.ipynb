{
 "cells": [
  {
   "cell_type": "code",
   "execution_count": 51,
   "metadata": {},
   "outputs": [],
   "source": [
    "import numpy as np"
   ]
  },
  {
   "cell_type": "markdown",
   "metadata": {},
   "source": [
    "### 1. 初始化陣列"
   ]
  },
  {
   "cell_type": "code",
   "execution_count": 147,
   "metadata": {},
   "outputs": [
    {
     "name": "stdout",
     "output_type": "stream",
     "text": [
      "[1 3 5]\n",
      "[[1 2]\n",
      " [3 4]\n",
      " [5 6]]\n"
     ]
    }
   ],
   "source": [
    "# 使用Python 列表建立陣列\n",
    "np1 = np.array([1,3,5])\n",
    "np2 = np.array([[1,2,],[3,4],[5,6]])\n",
    "print(np1)\n",
    "print(np2)"
   ]
  },
  {
   "cell_type": "code",
   "execution_count": 114,
   "metadata": {},
   "outputs": [
    {
     "name": "stdout",
     "output_type": "stream",
     "text": [
      "[1 2 3 4 5 6 7 8 9]\n"
     ]
    }
   ],
   "source": [
    "# 使用Numpy arange函數建立連續數值陣列\n",
    "np3 = np.arange(1,10)\n",
    "print(np3)"
   ]
  },
  {
   "cell_type": "code",
   "execution_count": 115,
   "metadata": {},
   "outputs": [
    {
     "name": "stdout",
     "output_type": "stream",
     "text": [
      "[0.  0.4 0.8 1.2 1.6 2.  2.4 2.8 3.2 3.6 4. ]\n"
     ]
    }
   ],
   "source": [
    "# 使用Numpy linspace函數建立連續等距數值陣列\n",
    "p4 = np.linspace(0,4,11)\n",
    "print(np4)"
   ]
  },
  {
   "cell_type": "code",
   "execution_count": 116,
   "metadata": {},
   "outputs": [
    {
     "name": "stdout",
     "output_type": "stream",
     "text": [
      "[[0. 0. 0.]\n",
      " [0. 0. 0.]]\n"
     ]
    }
   ],
   "source": [
    "# 建立填滿 0 的陣列\n",
    "np5 = np.zeros([2, 3]) \n",
    "print (np5)"
   ]
  },
  {
   "cell_type": "code",
   "execution_count": 117,
   "metadata": {},
   "outputs": [
    {
     "name": "stdout",
     "output_type": "stream",
     "text": [
      "[[1. 1. 1.]\n",
      " [1. 1. 1.]]\n"
     ]
    }
   ],
   "source": [
    "# 建立填滿 1 的陣列\n",
    "np6 = np.ones([2, 3]) \n",
    "print (np6)"
   ]
  },
  {
   "cell_type": "code",
   "execution_count": 131,
   "metadata": {},
   "outputs": [
    {
     "name": "stdout",
     "output_type": "stream",
     "text": [
      "[[1. 0. 0. 0. 0. 0. 0. 0. 0. 0.]\n",
      " [0. 1. 0. 0. 0. 0. 0. 0. 0. 0.]\n",
      " [0. 0. 1. 0. 0. 0. 0. 0. 0. 0.]\n",
      " [0. 0. 0. 1. 0. 0. 0. 0. 0. 0.]\n",
      " [0. 0. 0. 0. 1. 0. 0. 0. 0. 0.]\n",
      " [0. 0. 0. 0. 0. 1. 0. 0. 0. 0.]\n",
      " [0. 0. 0. 0. 0. 0. 1. 0. 0. 0.]\n",
      " [0. 0. 0. 0. 0. 0. 0. 1. 0. 0.]\n",
      " [0. 0. 0. 0. 0. 0. 0. 0. 1. 0.]\n",
      " [0. 0. 0. 0. 0. 0. 0. 0. 0. 1.]]\n"
     ]
    }
   ],
   "source": [
    "# 建立對角線為1的對角矩陣陣列\n",
    "np7 = np.eye(10) \n",
    "print(np7)"
   ]
  },
  {
   "cell_type": "code",
   "execution_count": 148,
   "metadata": {},
   "outputs": [
    {
     "name": "stdout",
     "output_type": "stream",
     "text": [
      "[0.36989345 0.54425216 0.72736689 0.55142687 0.61343442]\n",
      "[[0.84960141 0.41804866]\n",
      " [0.65697134 0.93242409]\n",
      " [0.79457993 0.52826627]\n",
      " [0.41929693 0.03234124]]\n",
      "[[[0.92681376 0.99739263]\n",
      "  [0.52983884 0.82472698]\n",
      "  [0.69350524 0.75516638]]\n",
      "\n",
      " [[0.6438198  0.14599879]\n",
      "  [0.52058678 0.69437123]\n",
      "  [0.40382765 0.74797413]]\n",
      "\n",
      " [[0.88184933 0.71812934]\n",
      "  [0.97105638 0.69820825]\n",
      "  [0.65152153 0.82539504]]\n",
      "\n",
      " [[0.25237835 0.82016872]\n",
      "  [0.15856971 0.1541679 ]\n",
      "  [0.97935496 0.08717885]]]\n"
     ]
    }
   ],
   "source": [
    "#建立隨機數值陣列\n",
    "#rand : 给定維度生成[0,1)之間的數值陣列，包含0，不包含1\n",
    "np8 = np.random.rand(5) \n",
    "print(np8)\n",
    "np9 = np.random.rand(4,2)\n",
    "print(np9)\n",
    "np10 = np.random.rand(4,3,2)\n",
    "print(np10)"
   ]
  },
  {
   "cell_type": "code",
   "execution_count": 146,
   "metadata": {},
   "outputs": [
    {
     "name": "stdout",
     "output_type": "stream",
     "text": [
      "[-0.49387758 -0.24131772  1.18895472 -0.33827806 -0.65538614]\n",
      "[[ 1.63426667 -0.49857565]\n",
      " [-0.13303717  1.62313097]\n",
      " [-0.65992561 -1.40966686]\n",
      " [-1.13652444  0.59255345]]\n",
      "[[[ 0.10236435  1.18040883]\n",
      "  [ 1.7736878   1.10642261]\n",
      "  [-1.89569139  0.03373473]]\n",
      "\n",
      " [[ 2.03588557  1.73860058]\n",
      "  [-0.84300473 -0.47656762]\n",
      "  [ 1.41192721  0.94331434]]\n",
      "\n",
      " [[ 0.70545889  0.16277723]\n",
      "  [-1.85759215 -0.66567973]\n",
      "  [-0.49702525  0.96509961]]\n",
      "\n",
      " [[-0.71702437  0.03147036]\n",
      "  [-0.11514881  1.42005079]\n",
      "  [ 0.85770348  0.62239384]]]\n"
     ]
    }
   ],
   "source": [
    "#randn : 给定維度生成常態分佈的數值陣列 , N（0，1）\n",
    "np11 = np.random.randn(5) \n",
    "print(np11)\n",
    "np12 = np.random.randn(4,2)\n",
    "print(np12)\n",
    "np13 = np.random.randn(4,3,2)\n",
    "print(np13)"
   ]
  },
  {
   "cell_type": "code",
   "execution_count": 154,
   "metadata": {},
   "outputs": [
    {
     "name": "stdout",
     "output_type": "stream",
     "text": [
      "[1 1 0 0 3]\n",
      "2\n",
      "[[-1  5]\n",
      " [-4  6]]\n"
     ]
    }
   ],
   "source": [
    "#randint : 给定維度生成隨機整數數值陣列 \n",
    "np14 = np.random.randint(6,size=5) \n",
    "print(np14)\n",
    "np15 = np.random.randint(2,10)\n",
    "print(np15)\n",
    "np16 = np.random.randint(-10,10,size=(2,2))\n",
    "print(np16)"
   ]
  },
  {
   "cell_type": "code",
   "execution_count": 166,
   "metadata": {},
   "outputs": [
    {
     "data": {
      "text/plain": [
       "array([[30, 20, 10, 10, 20],\n",
       "       [20, 20, 40, 20, 40]])"
      ]
     },
     "execution_count": 166,
     "metadata": {},
     "output_type": "execute_result"
    }
   ],
   "source": [
    "#从给定的一维陣列中生成随數值\n",
    "demo_list = [10, 20,30,40, 50]\n",
    "#demo_list = ['lenovo', 'sansumg','moto','xiaomi', 'iphone']\n",
    "np.random.choice(demo_list,size=(2,5), p=[0.1,0.6,0.1,0.1,0.1])"
   ]
  },
  {
   "cell_type": "code",
   "execution_count": 167,
   "metadata": {},
   "outputs": [
    {
     "name": "stdout",
     "output_type": "stream",
     "text": [
      "[[ 1. 10. 20. 30. 40. 50. 60.]\n",
      " [ 2. 12. 22. 32. 42. 52. 62.]]\n"
     ]
    }
   ],
   "source": [
    "#  從檔CSV案讀取資料\n",
    "np7 = np.genfromtxt('data/data.csv', delimiter=',')\n",
    "print(np7)"
   ]
  },
  {
   "cell_type": "markdown",
   "metadata": {},
   "source": [
    "### 2. 陣列索引訪問"
   ]
  },
  {
   "cell_type": "code",
   "execution_count": 156,
   "metadata": {},
   "outputs": [
    {
     "name": "stdout",
     "output_type": "stream",
     "text": [
      "[0 1 2 3 4 5 6 7 8 9]\n",
      "np1[0] ={%s},np1[5] ={},np1[-1] ={} 0 5 8\n",
      "np1[:5] =  [0 1 2 3 4]\n",
      "np1[3:7] =  [3 4 5 6]\n",
      "np1[6:] =  [6 7 8 9]\n",
      "[1 3 5]\n",
      "[1 3 5 7 9]\n",
      "[0 3 6 9]\n"
     ]
    }
   ],
   "source": [
    "#一維照列\n",
    "np1 = np.arange(0,10)\n",
    "print(np1)\n",
    "print(\"np1[0] ={%s},np1[5] ={},np1[-1] ={}\",np1[0],np1[5],np1[-2])\n",
    "print(\"np1[:5] = \",np1[:5])\n",
    "print(\"np1[3:7] = \",np1[3:7])\n",
    "print(\"np1[6:] = \",np1[6:])\n",
    "print(np1[1:6:2])\n",
    "print(np1[1::2])\n",
    "print(np1[::3])"
   ]
  },
  {
   "cell_type": "code",
   "execution_count": 128,
   "metadata": {},
   "outputs": [],
   "source": [
    "#二維照列\n",
    "\n",
    "\n",
    "\n",
    "\n",
    "\n"
   ]
  },
  {
   "cell_type": "markdown",
   "metadata": {},
   "source": [
    "### 操作運算"
   ]
  },
  {
   "cell_type": "code",
   "execution_count": 43,
   "metadata": {},
   "outputs": [
    {
     "name": "stdout",
     "output_type": "stream",
     "text": [
      "[ 3  7 11]\n",
      "1 (3,) int64\n",
      "[1 2 3 4 5 6]\n",
      "['1' '2' '3' '4' '5' '6'] <U21\n"
     ]
    }
   ],
   "source": [
    "\n",
    "\n",
    "\n",
    "np3 =np1+np2\n",
    "\n",
    "print(np3)\n",
    "print(np1.ndim, np1.shape, np1.dtype)\n",
    "np3 = np.array([1, 2, 3, 4, 5, 6])\n",
    "print(np3)\n",
    "np3 = np.array([1, 2, 3, 4, '5', 6])\n",
    "print(np3,np3.dtype)\n"
   ]
  },
  {
   "cell_type": "markdown",
   "metadata": {},
   "source": []
  },
  {
   "cell_type": "code",
   "execution_count": 23,
   "metadata": {},
   "outputs": [
    {
     "name": "stdout",
     "output_type": "stream",
     "text": [
      "[[ 1. 10. 20. 30. 40. 50. 60.]\n",
      " [ 2. 12. 22. 32. 42. 52. 62.]]\n"
     ]
    }
   ],
   "source": []
  },
  {
   "cell_type": "markdown",
   "metadata": {},
   "source": [
    "### 改變陣列維度"
   ]
  },
  {
   "cell_type": "code",
   "execution_count": 28,
   "metadata": {},
   "outputs": [
    {
     "name": "stdout",
     "output_type": "stream",
     "text": [
      "[[ 1. 10.]\n",
      " [20. 30.]\n",
      " [40. 50.]\n",
      " [60.  2.]\n",
      " [12. 22.]\n",
      " [32. 42.]\n",
      " [52. 62.]]\n"
     ]
    }
   ],
   "source": [
    "npd = npd.reshape([7,2])\n",
    "print(npd)"
   ]
  },
  {
   "cell_type": "markdown",
   "metadata": {},
   "source": []
  },
  {
   "cell_type": "markdown",
   "metadata": {},
   "source": []
  },
  {
   "cell_type": "code",
   "execution_count": 30,
   "metadata": {},
   "outputs": [
    {
     "name": "stdout",
     "output_type": "stream",
     "text": [
      "[[0. 0. 0.]\n",
      " [0. 0. 0.]]\n"
     ]
    }
   ],
   "source": []
  },
  {
   "cell_type": "markdown",
   "metadata": {},
   "source": [
    "** 建立填滿 1 的陣列"
   ]
  },
  {
   "cell_type": "code",
   "execution_count": 32,
   "metadata": {},
   "outputs": [
    {
     "name": "stdout",
     "output_type": "stream",
     "text": [
      "[[1. 1. 1.]\n",
      " [1. 1. 1.]]\n"
     ]
    }
   ],
   "source": [
    "np1 = np.ones([2, 3]) \n",
    "print (np1)"
   ]
  },
  {
   "cell_type": "markdown",
   "metadata": {},
   "source": [
    "### 陣列索引與切片"
   ]
  },
  {
   "cell_type": "code",
   "execution_count": 33,
   "metadata": {},
   "outputs": [
    {
     "name": "stdout",
     "output_type": "stream",
     "text": [
      "3\n"
     ]
    }
   ],
   "source": [
    "np3 = np.array([1, 2, 3, 4, 5, 6])\n",
    "print(np3[2])"
   ]
  },
  {
   "cell_type": "code",
   "execution_count": 35,
   "metadata": {},
   "outputs": [
    {
     "name": "stdout",
     "output_type": "stream",
     "text": [
      "4\n"
     ]
    }
   ],
   "source": [
    "np3 = np3.reshape([2, 3])\n",
    "print(np3[1, 0])"
   ]
  },
  {
   "cell_type": "markdown",
   "metadata": {},
   "source": [
    "### 使用布林遮罩來取值"
   ]
  },
  {
   "cell_type": "code",
   "execution_count": 36,
   "metadata": {},
   "outputs": [
    {
     "name": "stdout",
     "output_type": "stream",
     "text": [
      "[False False False  True  True  True]\n"
     ]
    }
   ],
   "source": [
    "np3 = np.array([1, 2, 3, 4, 5, 6])\n",
    "print(np3 > 3)"
   ]
  },
  {
   "cell_type": "code",
   "execution_count": 37,
   "metadata": {},
   "outputs": [
    {
     "name": "stdout",
     "output_type": "stream",
     "text": [
      "[4 5 6]\n"
     ]
    }
   ],
   "source": [
    "print(np3[np3 > 3])"
   ]
  },
  {
   "cell_type": "code",
   "execution_count": 41,
   "metadata": {},
   "outputs": [
    {
     "name": "stdout",
     "output_type": "stream",
     "text": [
      "[[1 2]\n",
      " [3 4]\n",
      " [5 6]]\n",
      "[ 3  7 11]\n",
      "[ 9 12]\n"
     ]
    }
   ],
   "source": [
    "np3 = np3.reshape([3, 2])\n",
    "print(np3)\n",
    "print(np3.sum(axis=1)) # 將 axis=1 橫向加總 [6 15]\n",
    "print(np3.sum(axis=0)) # 將 axis=1 橫向加總 [6 15]"
   ]
  },
  {
   "cell_type": "markdown",
   "metadata": {},
   "source": []
  }
 ],
 "metadata": {
  "kernelspec": {
   "display_name": "Python 3",
   "language": "python",
   "name": "python3"
  },
  "language_info": {
   "codemirror_mode": {
    "name": "ipython",
    "version": 3
   },
   "file_extension": ".py",
   "mimetype": "text/x-python",
   "name": "python",
   "nbconvert_exporter": "python",
   "pygments_lexer": "ipython3",
   "version": "3.5.2"
  }
 },
 "nbformat": 4,
 "nbformat_minor": 2
}
